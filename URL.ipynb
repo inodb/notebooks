{
 "metadata": {
  "name": "URL"
 }, 
 "nbformat": 2, 
 "worksheets": [
  {
   "cells": [
    {
     "cell_type": "markdown", 
     "source": [
      "Show URL in iframe"
     ]
    }, 
    {
     "cell_type": "code", 
     "collapsed": true, 
     "input": [
      "class Website(object):", 
      "    def __init__(self, id, width=400, height=300):", 
      "        self.id = id", 
      "        self.width = width", 
      "        self.height = height", 
      "    ", 
      "    def _repr_html_(self):", 
      "        return \"\"\"<iframe width=\"%i\" height=\"%i\" src=\"%s\"frameborder=\"0\" allowfullscreen></iframe>\"\"\"%(self.width, self.height, self.id)"
     ], 
     "language": "python", 
     "outputs": [], 
     "prompt_number": 1
    }, 
    {
     "cell_type": "code", 
     "collapsed": false, 
     "input": [
      "w = Website(\"http://export.uppmax.uu.se/b2010008/projects-public\")", 
      "display(w)"
     ], 
     "language": "python", 
     "outputs": [
      {
       "html": [
        "<iframe width=\"400\" height=\"300\" src=\"http://export.uppmax.uu.se/b2010008/projects-public\"frameborder=\"0\" allowfullscreen></iframe>"
       ], 
       "output_type": "display_data", 
       "text": [
        "<__main__.Website at 0x2c53d10>"
       ]
      }
     ], 
     "prompt_number": 2
    }, 
    {
     "cell_type": "markdown", 
     "source": [
      "Download URL after copying link location through iframe."
     ]
    }, 
    {
     "cell_type": "code", 
     "collapsed": false, 
     "input": [
      "urls = []", 
      "urls.append(\"https://export.uppmax.uu.se/b2010008/projects-public/sergek-bambus2/capnocytophaga/120717_BD1590ACXX/7_120717_BD1590ACXX_P192_119_index18/cov_200/slurm-cov200.v83.b2.out\")"
     ], 
     "language": "python", 
     "outputs": [], 
     "prompt_number": 8
    }, 
    {
     "cell_type": "code", 
     "collapsed": false, 
     "input": [
      "import urllib2", 
      "response = urllib2.urlopen(urls[0])", 
      "for l in response.readlines()[0:2]:", 
      "    print l[:-1]"
     ], 
     "language": "python", 
     "outputs": [
      {
       "output_type": "stream", 
       "stream": "stdout", 
       "text": [
        "## ##", 
        "## START JOB 2784742 - 7.cov200.v83.b2"
       ]
      }
     ], 
     "prompt_number": 9
    }
   ]
  }
 ]
}