{
 "metadata": {
  "name": "chris-mock-purity-plots"
 }, 
 "nbformat": 2, 
 "worksheets": [
  {
   "cells": [
    {
     "cell_type": "code", 
     "collapsed": false, 
     "input": [
      "!echo \"`cd /media/kalkyl-glob/github/masm-vali/masmvali/ && git log -1`\""
     ], 
     "language": "python", 
     "outputs": [
      {
       "output_type": "stream", 
       "stream": "stdout", 
       "text": [
        "commit 0fb0c92f044d48d912b9773942af49637fcb7254", 
        "Author: Ino de Bruijn <ino.debruijn@scilifelab.se>", 
        "Date:   Mon Apr 22 18:44:33 2013 +0200", 
        "", 
        "    Major update. Change the way metagenome coverage is computed, now count contigs only once. Fixed bug that genome-contig-cov is overwitten again with 0."
       ]
      }
     ], 
     "prompt_number": 1
    }, 
    {
     "cell_type": "code", 
     "collapsed": false, 
     "input": [
      "import sys", 
      "import os", 
      "sys.path.append('/media/kalkyl-glob/github/masm-vali/masmvali/')", 
      "import assembly", 
      "reload(assembly)", 
      "import nucmer", 
      "reload(nucmer)", 
      "import refgenome", 
      "reload(refgenome)", 
      "import validation", 
      "reload(validation)"
     ], 
     "language": "python", 
     "outputs": [
      {
       "output_type": "pyout", 
       "prompt_number": 99, 
       "text": [
        "<module 'validation' from '/media/kalkyl-glob/github/masm-vali/masmvali/validation.py'>"
       ]
      }
     ], 
     "prompt_number": 99
    }, 
    {
     "cell_type": "code", 
     "collapsed": true, 
     "input": [
      "DIR_EVEN = '/media/kalkyl-proj/nobackup/projects/chris-mock/Project_ID793_dAmore/Sample_50ng_even/metassemble/'", 
      "DIR_UNEVEN = '/media/kalkyl-proj/nobackup/projects/chris-mock/Project_ID793_dAmore/Sample_50ng_unbalanced/metassemble/'", 
      "", 
      "refphylfile = \"/media/kalkyl-home/glob/github/masm-vali/masmvali/test/data/chris-mock/reference/phylogeny-references.tsv\"", 
      "", 
      "refstatsfiled = {}", 
      "refstatsfiled[\"Sample_50ng_even\"] = \"/media/kalkyl-proj/nobackup/projects/chris-mock/Project_ID793_dAmore/Sample_50ng_even/metassemble/reference-stats/ref.stats\"", 
      "refstatsfiled[\"Sample_50ng_unbalanced\"] = \"/media/kalkyl-proj/nobackup/projects/chris-mock/Project_ID793_dAmore/Sample_50ng_unbalanced/metassemble/reference-stats/ref.stats\"", 
      "", 
      "refsets = {}", 
      "refsets[\"Sample_50ng_even\"] = refgenome.ReferenceSet(refphylfile, refstatsfiled[\"Sample_50ng_even\"])", 
      "refsets[\"Sample_50ng_unbalanced\"] = refgenome.ReferenceSet(refphylfile, refstatsfiled[\"Sample_50ng_unbalanced\"])"
     ], 
     "language": "python", 
     "outputs": [], 
     "prompt_number": 3
    }, 
    {
     "cell_type": "code", 
     "collapsed": false, 
     "input": [
      "ALL_STRATEGIES_ALPHA = ['velvetnoscaf','velvetscaf','velvetnoscafminimus2','velvetnoscafnewbler','velvetnoscafbambus2','velvetnoscafminimus2bambus2','velvetnoscafnewblerbambus2',", 
      "         'metavelvetnoscaf','metavelvetscaf','metavelvetnoscafminimus2','metavelvetnoscafnewbler','metavelvetnoscafbambus2','metavelvetnoscafminimus2bambus2','metavelvetnoscafnewblerbambus2',", 
      "         'raynoscaf','rayscaf','raynoscafminimus2','raynoscafnewbler']", 
      "    ", 
      "PLOTD = dict(zip(ALL_STRATEGIES_ALPHA,", 
      "              ['k-','k-','k--','k-','k-','k--','k-',", 
      "               'g-','g-','g--','g-','g-','g--','g-',", 
      "               'r-','r-','r--','r-']", 
      "              )", 
      "          )", 
      "        ", 
      "POSTFIXES = [ '/noscaf/noscaf_X/ma-contigs.fa', ", 
      "              '/scaf/scaf_X/ma-scaffolds.fa',", 
      "              '/noscaf/minimus2/ma-merge.fa',", 
      "              '/noscaf/newbler/ma-merge.fa',", 
      "              '/noscaf/noscaf_X/bambus2/bambus2.scaffold.linear.fasta',", 
      "              '/noscaf/minimus2/bambus2/bambus2.scaffold.linear.fasta',", 
      "              '/noscaf/newbler/bambus2/bambus2.scaffold.linear.fasta' ]", 
      "                ", 
      "FILEPATHD =  dict(zip(ALL_STRATEGIES_ALPHA,", 
      "                 [  d for d in [ '/velvet' + pf for pf in POSTFIXES ],", 
      "                    d for d in [ '/metavelvet' + pf for pf in POSTFIXES ],", 
      "                    d for d in [ '/ray' + pf for pf in POSTFIXES[:-3] ] ]))", 
      "", 
      "def alphafy_strat(strategy):", 
      "    alpha_strat = re.sub(\"[0-9]\", \"\", strategy)", 
      "    if alpha_strat not in filepathd:", 
      "       raise(Exception(\"Invalid strategy: \" + alpha_strat)) ", 
      "    ", 
      "", 
      "def get_metassemble_assembly_path(d, strategy):", 
      "    d.rstrip('/')", 
      "    ", 
      "    # Take only name without kmer number in it", 
      "    fp = FILEPATHD[alphafy_strat(strategy)]", 
      "        ", 
      "    # Change X to requested kmer size", 
      "    if re.search(\"X\", fp):", 
      "        kmer = int(re.sub(\"[a-z]\", \"\", strategy))", 
      "        fp = re.sub(\"X\", kmer, fp)", 
      "    ", 
      "    if not os.path.isfile(fp):", 
      "        raise(Exception(\"File does not exist: \" + fp))", 
      "    ", 
      "    return fp", 
      "    ", 
      "def get_metassemble_assembly_validation(d, strategy, refset):", 
      "    fp = get_metassemble_assembly_path(d, strategy)", 
      "    return validation.AssemblyValidation(fp, \"/\".join(fp.split(\"/\")[:-1]) + '/val/nucmer.coords', referenceset=refset)"
     ], 
     "language": "python", 
     "outputs": [], 
     "prompt_number": 101
    }, 
    {
     "cell_type": "code", 
     "collapsed": false, 
     "input": [
      "def add_kmers(name, postfix=\"\", rlist=range(19, 77, 2)):", 
      "    return [name + str(n) for n in rlist ]", 
      "    ", 
      "", 
      "asm_sets = {}", 
      "asm_sets[\"contig\"] = add_kmers(\"velvetnoscaf\") + add_kmers(\"raynoscaf\") + add_kmers(\"metavelvetnoscaf\")", 
      "asm_sets[\"scaf\"] = add_kmers(\"velvetscaf\") + add_kmers(\"rayscaf\") + add_kmers(\"metavelvetscaf\")", 
      "asm_sets['contig-merge'] = [n for n in ALL_STRATEGIES_ALPHA if n.endswith('newbler') or n.endswith('minimus2')]", 
      "asm_sets['contig-scaf'] = [a + \"bambus2\" for a in asm_sets[\"contig\"] if not a.startswith(\"ray\")]", 
      "asm_sets['contig-merge-scaf'] = [a + \"bambus2\" for a in asm_sets[\"contig-merge\"] if not a.startswith(\"ray\")]"
     ], 
     "language": "python", 
     "outputs": [], 
     "prompt_number": 106
    }, 
    {
     "cell_type": "code", 
     "collapsed": false, 
     "input": [
      "len(\"ah\"[len(\"ah\"):])", 
      "print [ d for d in [a for a in ['al', 'al'] ], d for d in [a for a in ['al', 'al'] ] ]", 
      "print [d for d in ['d']]"
     ], 
     "language": "python", 
     "outputs": [
      {
       "output_type": "stream", 
       "stream": "stdout", 
       "text": [
        "['al', 'al', 'al', 'al']", 
        "['d']"
       ]
      }
     ], 
     "prompt_number": 75
    }, 
    {
     "cell_type": "code", 
     "collapsed": false, 
     "input": [
      "import re", 
      "print re.sub(\"[a-z]\", \"\", \"velvetnoscaf31\")", 
      "print re.search(\"Xa\", \"velvetnoscafX\")"
     ], 
     "language": "python", 
     "outputs": [
      {
       "output_type": "stream", 
       "stream": "stdout", 
       "text": [
        "31", 
        "None"
       ]
      }
     ], 
     "prompt_number": 41
    }, 
    {
     "cell_type": "code", 
     "collapsed": true, 
     "input": [], 
     "language": "python", 
     "outputs": []
    }
   ]
  }
 ]
}