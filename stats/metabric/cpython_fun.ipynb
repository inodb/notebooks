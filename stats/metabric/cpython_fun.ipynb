{
 "metadata": {
  "name": "",
  "signature": "sha256:77f7af4eefcc51ac1cf4838940a9bc898e46ec0bcb7bb93ba702e9b394a28231"
 },
 "nbformat": 3,
 "nbformat_minor": 0,
 "worksheets": [
  {
   "cells": [
    {
     "cell_type": "code",
     "collapsed": false,
     "input": [
      "%load_ext cythonmagic"
     ],
     "language": "python",
     "metadata": {},
     "outputs": [],
     "prompt_number": 2
    },
    {
     "cell_type": "code",
     "collapsed": false,
     "input": [
      "import pandas as pd\n",
      "import numpy as np"
     ],
     "language": "python",
     "metadata": {},
     "outputs": [],
     "prompt_number": 5
    },
    {
     "cell_type": "code",
     "collapsed": false,
     "input": [
      "cna = pd.read_csv(\"data/discovery_CNA_CBS.txt\", sep=\"\\t\")"
     ],
     "language": "python",
     "metadata": {},
     "outputs": [],
     "prompt_number": 7
    },
    {
     "cell_type": "code",
     "collapsed": false,
     "input": [
      "%%cython\n",
      "def get_cna_seg_mean_per_sample_cython(row, cna):\n",
      "    return cna[(cna['chrom'] == row.chrom) & (cna['loc.start'] < row.start) & (cna['loc.end'] > row.end)] \\\n",
      "        .groupby(\"METABRIC_ID\")[\"seg.mean\"].median() "
     ],
     "language": "python",
     "metadata": {},
     "outputs": [],
     "prompt_number": 18
    },
    {
     "cell_type": "code",
     "collapsed": false,
     "input": [
      "def get_cna_seg_mean_per_sample(row, cna):\n",
      "    return cna[(cna['chrom'] == row.chrom) & (cna['loc.start'] < row.start) & (cna['loc.end'] > row.end)] \\\n",
      "        .groupby(\"METABRIC_ID\")[\"seg.mean\"].median() "
     ],
     "language": "python",
     "metadata": {},
     "outputs": [],
     "prompt_number": 20
    },
    {
     "cell_type": "code",
     "collapsed": false,
     "input": [
      "probe2gene = pd.read_csv(\"data/probe_gene_map.tsv\", sep=\"\\t\").set_index(\"IlluminaID\")\n",
      "probe2gene_f = probe2gene[pd.notnull(probe2gene.SymbolReannotated) & pd.notnull(probe2gene.GenomicLocation)]\n",
      "probe2gene_f = probe2gene_f[~probe2gene_f.GenomicLocation.str.contains(\"chrM|chrUn|hap|random\")]\n",
      "probe2gene_f['chrom'] = probe2gene_f.GenomicLocation.apply(lambda x: int(x.split(\":\")[0][3:].replace(\"X\", \"23\").replace(\"Y\", \"24\")))\n",
      "probe2gene_f['start'] = probe2gene_f.GenomicLocation.apply(lambda x: int(x.split(\":\")[1]))\n",
      "probe2gene_f['end'] = probe2gene_f.GenomicLocation.apply(lambda x: int(x.split(\":\")[2]))"
     ],
     "language": "python",
     "metadata": {},
     "outputs": [],
     "prompt_number": 10
    },
    {
     "cell_type": "code",
     "collapsed": false,
     "input": [
      "%timeit cna_seg_mean_per_sample = probe2gene_f.head(100).apply(get_cna_seg_mean_per_sample, axis=1, args=(cna,))"
     ],
     "language": "python",
     "metadata": {},
     "outputs": [
      {
       "output_type": "stream",
       "stream": "stdout",
       "text": [
        "1 loops, best of 3: 5.13 s per loop\n"
       ]
      }
     ],
     "prompt_number": 24
    },
    {
     "cell_type": "code",
     "collapsed": false,
     "input": [
      "%timeit cna_seg_mean_per_sample = probe2gene_f.head(100).apply(get_cna_seg_mean_per_sample_cython, axis=1, args=(cna,))"
     ],
     "language": "python",
     "metadata": {},
     "outputs": [
      {
       "output_type": "stream",
       "stream": "stdout",
       "text": [
        "1 loops, best of 3: 5.15 s per loop\n"
       ]
      }
     ],
     "prompt_number": 23
    },
    {
     "cell_type": "code",
     "collapsed": false,
     "input": [
      "%prun -l 10 cna_seg_mean_per_sample = probe2gene_f.head(100).apply(get_cna_seg_mean_per_sample, axis=1, args=(cna,))"
     ],
     "language": "python",
     "metadata": {},
     "outputs": [
      {
       "output_type": "stream",
       "stream": "stdout",
       "text": [
        " "
       ]
      }
     ],
     "prompt_number": 26
    },
    {
     "cell_type": "code",
     "collapsed": false,
     "input": [
      "probe2gene.apply()"
     ],
     "language": "python",
     "metadata": {},
     "outputs": []
    }
   ],
   "metadata": {}
  }
 ]
}