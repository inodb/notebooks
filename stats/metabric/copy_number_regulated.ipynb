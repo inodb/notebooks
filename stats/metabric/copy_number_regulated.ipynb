{
 "metadata": {
  "name": "",
  "signature": "sha256:7d04b113fee59745343e1aac4bdca24c5eab027532469d03f74327a8c1bb583c"
 },
 "nbformat": 3,
 "nbformat_minor": 0,
 "worksheets": [
  {
   "cells": [
    {
     "cell_type": "heading",
     "level": 1,
     "metadata": {},
     "source": [
      "Copy number regulation based on METABRIC data"
     ]
    },
    {
     "cell_type": "markdown",
     "metadata": {},
     "source": [
      "Need to translate probes to genes.\n",
      "\n",
      "First installed R packages\n",
      "```R\n",
      "source(\"http://bioconductor.org/biocLite.R\")\n",
      "biocLite(\"illuminaHumanv3.db\")\n",
      "biocLite(\"org.Hs.eg.db\")\n",
      "```\n",
      "and rpy2 and biomart\n",
      "```python\n",
      "pip install rpy2\n",
      "pip install biomart\n",
      "```"
     ]
    },
    {
     "cell_type": "code",
     "collapsed": false,
     "input": [
      "%%R\n",
      "# output probe to gene mapping\n",
      "library(\"illuminaHumanv3.db\", quietly=TRUE)\n",
      "x = illuminaHumanv3fullReannotation()\n",
      "write.table(x, file=\"data/probe_gene_map.tsv\", sep=\"\\t\")"
     ],
     "language": "python",
     "metadata": {},
     "outputs": [],
     "prompt_number": 8
    },
    {
     "cell_type": "code",
     "collapsed": false,
     "input": [
      "import pandas as pd\n",
      "import numpy as np"
     ],
     "language": "python",
     "metadata": {},
     "outputs": [],
     "prompt_number": 1
    },
    {
     "cell_type": "code",
     "collapsed": false,
     "input": [
      "probe2gene = pd.read_csv(\"data/probe_gene_map.tsv\", sep=\"\\t\").set_index(\"IlluminaID\")"
     ],
     "language": "python",
     "metadata": {},
     "outputs": [],
     "prompt_number": 2
    },
    {
     "cell_type": "code",
     "collapsed": false,
     "input": [
      "probe2gene.head()"
     ],
     "language": "python",
     "metadata": {},
     "outputs": [
      {
       "html": [
        "<div style=\"max-height:1000px;max-width:1500px;overflow:auto;\">\n",
        "<table border=\"1\" class=\"dataframe\">\n",
        "  <thead>\n",
        "    <tr style=\"text-align: right;\">\n",
        "      <th></th>\n",
        "      <th>ArrayAddress</th>\n",
        "      <th>NuID</th>\n",
        "      <th>ProbeQuality</th>\n",
        "      <th>CodingZone</th>\n",
        "      <th>ProbeSequence</th>\n",
        "      <th>SecondMatches</th>\n",
        "      <th>OtherGenomicMatches</th>\n",
        "      <th>RepeatMask</th>\n",
        "      <th>OverlappingSNP</th>\n",
        "      <th>EntrezReannotated</th>\n",
        "      <th>GenomicLocation</th>\n",
        "      <th>SymbolReannotated</th>\n",
        "      <th>ReporterGroupName</th>\n",
        "      <th>ReporterGroupID</th>\n",
        "      <th>EnsemblReannotated</th>\n",
        "    </tr>\n",
        "    <tr>\n",
        "      <th>IlluminaID</th>\n",
        "      <th></th>\n",
        "      <th></th>\n",
        "      <th></th>\n",
        "      <th></th>\n",
        "      <th></th>\n",
        "      <th></th>\n",
        "      <th></th>\n",
        "      <th></th>\n",
        "      <th></th>\n",
        "      <th></th>\n",
        "      <th></th>\n",
        "      <th></th>\n",
        "      <th></th>\n",
        "      <th></th>\n",
        "      <th></th>\n",
        "    </tr>\n",
        "  </thead>\n",
        "  <tbody>\n",
        "    <tr>\n",
        "      <th>ILMN_1725881</th>\n",
        "      <td> 1710221</td>\n",
        "      <td> rp13_p1x6D80lNLk3c</td>\n",
        "      <td>        Bad</td>\n",
        "      <td> Transcriptomic?</td>\n",
        "      <td> GGCTCCTCTTTGGGCTCCTACTGGAATTTATCAGCCATCAGTGCAT...</td>\n",
        "      <td>  chr18:11633277:11633324:-</td>\n",
        "      <td> chr16:21862400:21862449:- chr16:22531367:22531...</td>\n",
        "      <td>                          NaN</td>\n",
        "      <td> rs434700 rs71363125</td>\n",
        "      <td> 100506250</td>\n",
        "      <td>  chr16:21430130:21430179:-</td>\n",
        "      <td> LOC100506250</td>\n",
        "      <td> NaN</td>\n",
        "      <td> NaN</td>\n",
        "      <td> ENSG00000185864</td>\n",
        "    </tr>\n",
        "    <tr>\n",
        "      <th>ILMN_1910180</th>\n",
        "      <td> 5900364</td>\n",
        "      <td> NEX0oqCV8.er4HVfU4</td>\n",
        "      <td> Perfect***</td>\n",
        "      <td> Transcriptomic?</td>\n",
        "      <td> ACACCTTCAGGAGGGAAGCCCTTATTTCTGGGTTGAACTCCCCTTC...</td>\n",
        "      <td>                        NaN</td>\n",
        "      <td>                                               NaN</td>\n",
        "      <td>                          NaN</td>\n",
        "      <td>                 NaN</td>\n",
        "      <td>       NaN</td>\n",
        "      <td> chr2:206643947:206643996:+</td>\n",
        "      <td>     AK024680</td>\n",
        "      <td> NaN</td>\n",
        "      <td> NaN</td>\n",
        "      <td> ENSG00000180672</td>\n",
        "    </tr>\n",
        "    <tr>\n",
        "      <th>ILMN_1804174</th>\n",
        "      <td> 2480717</td>\n",
        "      <td> KyqQynMZxJcruyylEU</td>\n",
        "      <td>        Bad</td>\n",
        "      <td>  Transcriptomic</td>\n",
        "      <td> TAGGGGCAATAGGCTATACGCTACAGCCTAGGTGTGTAGTAGGCCA...</td>\n",
        "      <td>  chr12:50382272:50382321:+</td>\n",
        "      <td>                                               NaN</td>\n",
        "      <td> Tigger3a_DNA_TcMar-Tigger:50</td>\n",
        "      <td>                 NaN</td>\n",
        "      <td>      2213</td>\n",
        "      <td> chr1:161648212:161648261:+</td>\n",
        "      <td>       FCGR2B</td>\n",
        "      <td> NaN</td>\n",
        "      <td> NaN</td>\n",
        "      <td> ENSG00000072694</td>\n",
        "    </tr>\n",
        "    <tr>\n",
        "      <th>ILMN_1796063</th>\n",
        "      <td> 1300239</td>\n",
        "      <td> xXl7eXuF7sbPEp.KFI</td>\n",
        "      <td>    Perfect</td>\n",
        "      <td>  Transcriptomic</td>\n",
        "      <td> CCTGCCTGTCTGCCTGTGACCTGTGTACGTATTACAGGCTTTAGGA...</td>\n",
        "      <td>                        NaN</td>\n",
        "      <td>                                               NaN</td>\n",
        "      <td>                          NaN</td>\n",
        "      <td>                 NaN</td>\n",
        "      <td>     54765</td>\n",
        "      <td>  chr11:35829494:35829543:+</td>\n",
        "      <td>       TRIM44</td>\n",
        "      <td> NaN</td>\n",
        "      <td> NaN</td>\n",
        "      <td> ENSG00000166326</td>\n",
        "    </tr>\n",
        "    <tr>\n",
        "      <th>ILMN_1811966</th>\n",
        "      <td> 4480719</td>\n",
        "      <td> 9ckqJrioiaej9_ajeQ</td>\n",
        "      <td>        Bad</td>\n",
        "      <td>  Transcriptomic</td>\n",
        "      <td> CTAGCAGGGAGCGGTGAGGGAGAGCGGCTGGATTTCTTGCGGGATC...</td>\n",
        "      <td> chr5:114598479:114598524:-</td>\n",
        "      <td>                         chr10:81652858:81652907:-</td>\n",
        "      <td>                          NaN</td>\n",
        "      <td>                 NaN</td>\n",
        "      <td>      5229</td>\n",
        "      <td>  chr10:52487656:52487705:-</td>\n",
        "      <td>       PGGT1B</td>\n",
        "      <td> NaN</td>\n",
        "      <td> NaN</td>\n",
        "      <td> ENSG00000214584</td>\n",
        "    </tr>\n",
        "  </tbody>\n",
        "</table>\n",
        "</div>"
       ],
       "metadata": {},
       "output_type": "pyout",
       "prompt_number": 3,
       "text": [
        "              ArrayAddress                NuID ProbeQuality       CodingZone  \\\n",
        "IlluminaID                                                                     \n",
        "ILMN_1725881       1710221  rp13_p1x6D80lNLk3c          Bad  Transcriptomic?   \n",
        "ILMN_1910180       5900364  NEX0oqCV8.er4HVfU4   Perfect***  Transcriptomic?   \n",
        "ILMN_1804174       2480717  KyqQynMZxJcruyylEU          Bad   Transcriptomic   \n",
        "ILMN_1796063       1300239  xXl7eXuF7sbPEp.KFI      Perfect   Transcriptomic   \n",
        "ILMN_1811966       4480719  9ckqJrioiaej9_ajeQ          Bad   Transcriptomic   \n",
        "\n",
        "                                                  ProbeSequence  \\\n",
        "IlluminaID                                                        \n",
        "ILMN_1725881  GGCTCCTCTTTGGGCTCCTACTGGAATTTATCAGCCATCAGTGCAT...   \n",
        "ILMN_1910180  ACACCTTCAGGAGGGAAGCCCTTATTTCTGGGTTGAACTCCCCTTC...   \n",
        "ILMN_1804174  TAGGGGCAATAGGCTATACGCTACAGCCTAGGTGTGTAGTAGGCCA...   \n",
        "ILMN_1796063  CCTGCCTGTCTGCCTGTGACCTGTGTACGTATTACAGGCTTTAGGA...   \n",
        "ILMN_1811966  CTAGCAGGGAGCGGTGAGGGAGAGCGGCTGGATTTCTTGCGGGATC...   \n",
        "\n",
        "                           SecondMatches  \\\n",
        "IlluminaID                                 \n",
        "ILMN_1725881   chr18:11633277:11633324:-   \n",
        "ILMN_1910180                         NaN   \n",
        "ILMN_1804174   chr12:50382272:50382321:+   \n",
        "ILMN_1796063                         NaN   \n",
        "ILMN_1811966  chr5:114598479:114598524:-   \n",
        "\n",
        "                                            OtherGenomicMatches  \\\n",
        "IlluminaID                                                        \n",
        "ILMN_1725881  chr16:21862400:21862449:- chr16:22531367:22531...   \n",
        "ILMN_1910180                                                NaN   \n",
        "ILMN_1804174                                                NaN   \n",
        "ILMN_1796063                                                NaN   \n",
        "ILMN_1811966                          chr10:81652858:81652907:-   \n",
        "\n",
        "                                RepeatMask       OverlappingSNP  \\\n",
        "IlluminaID                                                        \n",
        "ILMN_1725881                           NaN  rs434700 rs71363125   \n",
        "ILMN_1910180                           NaN                  NaN   \n",
        "ILMN_1804174  Tigger3a_DNA_TcMar-Tigger:50                  NaN   \n",
        "ILMN_1796063                           NaN                  NaN   \n",
        "ILMN_1811966                           NaN                  NaN   \n",
        "\n",
        "              EntrezReannotated             GenomicLocation SymbolReannotated  \\\n",
        "IlluminaID                                                                      \n",
        "ILMN_1725881          100506250   chr16:21430130:21430179:-      LOC100506250   \n",
        "ILMN_1910180                NaN  chr2:206643947:206643996:+          AK024680   \n",
        "ILMN_1804174               2213  chr1:161648212:161648261:+            FCGR2B   \n",
        "ILMN_1796063              54765   chr11:35829494:35829543:+            TRIM44   \n",
        "ILMN_1811966               5229   chr10:52487656:52487705:-            PGGT1B   \n",
        "\n",
        "             ReporterGroupName ReporterGroupID EnsemblReannotated  \n",
        "IlluminaID                                                         \n",
        "ILMN_1725881               NaN             NaN    ENSG00000185864  \n",
        "ILMN_1910180               NaN             NaN    ENSG00000180672  \n",
        "ILMN_1804174               NaN             NaN    ENSG00000072694  \n",
        "ILMN_1796063               NaN             NaN    ENSG00000166326  \n",
        "ILMN_1811966               NaN             NaN    ENSG00000214584  "
       ]
      }
     ],
     "prompt_number": 3
    },
    {
     "cell_type": "code",
     "collapsed": false,
     "input": [
      "cna = pd.read_csv(\"data/discovery_CNA_CBS.txt\", sep=\"\\t\")"
     ],
     "language": "python",
     "metadata": {},
     "outputs": [],
     "prompt_number": 4
    },
    {
     "cell_type": "code",
     "collapsed": false,
     "input": [
      "cna.head()"
     ],
     "language": "python",
     "metadata": {},
     "outputs": [
      {
       "html": [
        "<div style=\"max-height:1000px;max-width:1500px;overflow:auto;\">\n",
        "<table border=\"1\" class=\"dataframe\">\n",
        "  <thead>\n",
        "    <tr style=\"text-align: right;\">\n",
        "      <th></th>\n",
        "      <th>METABRIC_ID</th>\n",
        "      <th>chrom</th>\n",
        "      <th>loc.start</th>\n",
        "      <th>loc.end</th>\n",
        "      <th>num.mark</th>\n",
        "      <th>seg.mean</th>\n",
        "      <th>call</th>\n",
        "      <th>call2</th>\n",
        "    </tr>\n",
        "  </thead>\n",
        "  <tbody>\n",
        "    <tr>\n",
        "      <th>0</th>\n",
        "      <td> MB-0135</td>\n",
        "      <td> 1</td>\n",
        "      <td>    51599</td>\n",
        "      <td>  3070800</td>\n",
        "      <td>   725</td>\n",
        "      <td> 0.059265</td>\n",
        "      <td> 0</td>\n",
        "      <td> NEUT</td>\n",
        "    </tr>\n",
        "    <tr>\n",
        "      <th>1</th>\n",
        "      <td> MB-0135</td>\n",
        "      <td> 1</td>\n",
        "      <td>  3079347</td>\n",
        "      <td> 20956319</td>\n",
        "      <td> 11269</td>\n",
        "      <td>-0.363605</td>\n",
        "      <td>-1</td>\n",
        "      <td> HETD</td>\n",
        "    </tr>\n",
        "    <tr>\n",
        "      <th>2</th>\n",
        "      <td> MB-0135</td>\n",
        "      <td> 1</td>\n",
        "      <td> 20956825</td>\n",
        "      <td> 20958696</td>\n",
        "      <td>     2</td>\n",
        "      <td>-2.123863</td>\n",
        "      <td>-1</td>\n",
        "      <td> HOMD</td>\n",
        "    </tr>\n",
        "    <tr>\n",
        "      <th>3</th>\n",
        "      <td> MB-0135</td>\n",
        "      <td> 1</td>\n",
        "      <td> 20962780</td>\n",
        "      <td> 25465716</td>\n",
        "      <td>  2649</td>\n",
        "      <td>-0.363605</td>\n",
        "      <td>-1</td>\n",
        "      <td> HETD</td>\n",
        "    </tr>\n",
        "    <tr>\n",
        "      <th>4</th>\n",
        "      <td> MB-0135</td>\n",
        "      <td> 1</td>\n",
        "      <td> 25468469</td>\n",
        "      <td> 25534089</td>\n",
        "      <td>    30</td>\n",
        "      <td> 0.059265</td>\n",
        "      <td> 0</td>\n",
        "      <td> NEUT</td>\n",
        "    </tr>\n",
        "  </tbody>\n",
        "</table>\n",
        "</div>"
       ],
       "metadata": {},
       "output_type": "pyout",
       "prompt_number": 5,
       "text": [
        "  METABRIC_ID  chrom  loc.start   loc.end  num.mark  seg.mean  call call2\n",
        "0     MB-0135      1      51599   3070800       725  0.059265     0  NEUT\n",
        "1     MB-0135      1    3079347  20956319     11269 -0.363605    -1  HETD\n",
        "2     MB-0135      1   20956825  20958696         2 -2.123863    -1  HOMD\n",
        "3     MB-0135      1   20962780  25465716      2649 -0.363605    -1  HETD\n",
        "4     MB-0135      1   25468469  25534089        30  0.059265     0  NEUT"
       ]
      }
     ],
     "prompt_number": 5
    },
    {
     "cell_type": "code",
     "collapsed": false,
     "input": [
      "probe2gene.columns"
     ],
     "language": "python",
     "metadata": {},
     "outputs": [
      {
       "metadata": {},
       "output_type": "pyout",
       "prompt_number": 6,
       "text": [
        "Index([u'ArrayAddress', u'NuID', u'ProbeQuality', u'CodingZone', u'ProbeSequence', u'SecondMatches', u'OtherGenomicMatches', u'RepeatMask', u'OverlappingSNP', u'EntrezReannotated', u'GenomicLocation', u'SymbolReannotated', u'ReporterGroupName', u'ReporterGroupID', u'EnsemblReannotated'], dtype='object')"
       ]
      }
     ],
     "prompt_number": 6
    },
    {
     "cell_type": "markdown",
     "metadata": {},
     "source": [
      "Filter out GenomicLocation and SymbolReannotated with NaN values"
     ]
    },
    {
     "cell_type": "code",
     "collapsed": false,
     "input": [
      "print (pd.notnull(probe2gene.SymbolReannotated) & pd.notnull(probe2gene.GenomicLocation)).sum()\n",
      "print len(probe2gene)"
     ],
     "language": "python",
     "metadata": {},
     "outputs": [
      {
       "output_type": "stream",
       "stream": "stdout",
       "text": [
        "45430\n",
        "49576\n"
       ]
      }
     ],
     "prompt_number": 7
    },
    {
     "cell_type": "code",
     "collapsed": false,
     "input": [
      "probe2gene_f = probe2gene[pd.notnull(probe2gene.SymbolReannotated) & pd.notnull(probe2gene.GenomicLocation)]"
     ],
     "language": "python",
     "metadata": {},
     "outputs": [],
     "prompt_number": 8
    },
    {
     "cell_type": "markdown",
     "metadata": {},
     "source": [
      "Filter out mitochondrial chromosomes and unknown contigs (http://genome.ucsc.edu/FAQ/FAQdownloads.html#download11). Also remove hap chromosomes."
     ]
    },
    {
     "cell_type": "code",
     "collapsed": false,
     "input": [
      "probe2gene.GenomicLocation.dropna().str.contains(\"chrY\").sum()"
     ],
     "language": "python",
     "metadata": {},
     "outputs": [
      {
       "metadata": {},
       "output_type": "pyout",
       "prompt_number": 9,
       "text": [
        "228"
       ]
      }
     ],
     "prompt_number": 9
    },
    {
     "cell_type": "code",
     "collapsed": false,
     "input": [
      "probe2gene.GenomicLocation.dropna().str.contains(\"chrUn\").sum()"
     ],
     "language": "python",
     "metadata": {},
     "outputs": [
      {
       "metadata": {},
       "output_type": "pyout",
       "prompt_number": 10,
       "text": [
        "34"
       ]
      }
     ],
     "prompt_number": 10
    },
    {
     "cell_type": "code",
     "collapsed": false,
     "input": [
      "probe2gene.GenomicLocation.dropna().str.contains(\"chrM\").sum()"
     ],
     "language": "python",
     "metadata": {},
     "outputs": [
      {
       "metadata": {},
       "output_type": "pyout",
       "prompt_number": 11,
       "text": [
        "1"
       ]
      }
     ],
     "prompt_number": 11
    },
    {
     "cell_type": "code",
     "collapsed": false,
     "input": [
      "(probe2gene.GenomicLocation.str.contains(\"hap|random\", na=False)).sum()"
     ],
     "language": "python",
     "metadata": {},
     "outputs": [
      {
       "metadata": {},
       "output_type": "pyout",
       "prompt_number": 12,
       "text": [
        "230"
       ]
      }
     ],
     "prompt_number": 12
    },
    {
     "cell_type": "code",
     "collapsed": false,
     "input": [
      "probe2gene_f = probe2gene_f[~probe2gene_f.GenomicLocation.str.contains(\"chrM|chrUn|hap|random\")]"
     ],
     "language": "python",
     "metadata": {},
     "outputs": [],
     "prompt_number": 13
    },
    {
     "cell_type": "code",
     "collapsed": false,
     "input": [
      "probe2gene_f['chrom'] = probe2gene_f.GenomicLocation.apply(lambda x: int(x.split(\":\")[0][3:].replace(\"X\", \"23\").replace(\"Y\", \"24\")))"
     ],
     "language": "python",
     "metadata": {},
     "outputs": [],
     "prompt_number": 14
    },
    {
     "cell_type": "code",
     "collapsed": false,
     "input": [
      "probe2gene_f['start'] = probe2gene_f.GenomicLocation.apply(lambda x: int(x.split(\":\")[1]))"
     ],
     "language": "python",
     "metadata": {},
     "outputs": [],
     "prompt_number": 15
    },
    {
     "cell_type": "code",
     "collapsed": false,
     "input": [
      "probe2gene_f['end'] = probe2gene_f.GenomicLocation.apply(lambda x: int(x.split(\":\")[2]))"
     ],
     "language": "python",
     "metadata": {},
     "outputs": [],
     "prompt_number": 16
    },
    {
     "cell_type": "code",
     "collapsed": false,
     "input": [
      "def get_cna_seg_count_per_probe(row):\n",
      "    return cna[(cna['chrom'] == row.chrom) & (cna['loc.start'] < row.start) & (cna['loc.end'] > row.end)].groupby(\"METABRIC_ID\").chrom.count().sum() != 997"
     ],
     "language": "python",
     "metadata": {},
     "outputs": [],
     "prompt_number": 17
    },
    {
     "cell_type": "code",
     "collapsed": false,
     "input": [
      "%%time\n",
      "probe_with_multiple_cna_seg = probe2gene_f.apply(get_cna_seg_count_per_probe, axis=1)"
     ],
     "language": "python",
     "metadata": {},
     "outputs": [
      {
       "output_type": "stream",
       "stream": "stdout",
       "text": [
        "CPU times: user 29min 46s, sys: 52.2 s, total: 30min 39s\n",
        "Wall time: 30min 41s\n"
       ]
      }
     ],
     "prompt_number": 45
    },
    {
     "cell_type": "code",
     "collapsed": false,
     "input": [
      "probe_with_multiple_cna_seg.sum()"
     ],
     "language": "python",
     "metadata": {},
     "outputs": [
      {
       "metadata": {},
       "output_type": "pyout",
       "prompt_number": 48,
       "text": [
        "16160"
       ]
      }
     ],
     "prompt_number": 48
    },
    {
     "cell_type": "code",
     "collapsed": false,
     "input": [
      "def get_cna_seg_mean_per_sample(row):\n",
      "    return cna[(cna['chrom'] == row.chrom) & (cna['loc.start'] < row.start) & (cna['loc.end'] > row.end)] \\\n",
      "        .groupby(\"METABRIC_ID\")[\"seg.mean\"].median() "
     ],
     "language": "python",
     "metadata": {},
     "outputs": [],
     "prompt_number": 18
    },
    {
     "cell_type": "code",
     "collapsed": false,
     "input": [
      "%%time\n",
      "cna_seg_mean_per_sample = probe2gene_f.apply(get_cna_seg_mean_per_sample, axis=1)"
     ],
     "language": "python",
     "metadata": {},
     "outputs": [
      {
       "output_type": "stream",
       "stream": "stdout",
       "text": [
        "CPU times: user 30min 18s, sys: 1min 3s, total: 31min 21s\n",
        "Wall time: 31min 24s\n"
       ]
      }
     ],
     "prompt_number": 52
    },
    {
     "cell_type": "code",
     "collapsed": false,
     "input": [
      "cna_seg_mean_per_sample.head()"
     ],
     "language": "python",
     "metadata": {},
     "outputs": [
      {
       "html": [
        "<div style=\"max-height:1000px;max-width:1500px;overflow:auto;\">\n",
        "<table border=\"1\" class=\"dataframe\">\n",
        "  <thead>\n",
        "    <tr style=\"text-align: right;\">\n",
        "      <th></th>\n",
        "      <th>MB-0002</th>\n",
        "      <th>MB-0008</th>\n",
        "      <th>MB-0010</th>\n",
        "      <th>MB-0035</th>\n",
        "      <th>MB-0036</th>\n",
        "      <th>MB-0050</th>\n",
        "      <th>MB-0059</th>\n",
        "      <th>MB-0060</th>\n",
        "      <th>MB-0066</th>\n",
        "      <th>MB-0101</th>\n",
        "      <th>...</th>\n",
        "      <th>MB-5634</th>\n",
        "      <th>MB-5635</th>\n",
        "      <th>MB-5638</th>\n",
        "      <th>MB-5642</th>\n",
        "      <th>MB-5645</th>\n",
        "      <th>MB-5646</th>\n",
        "      <th>MB-5647</th>\n",
        "      <th>MB-5651</th>\n",
        "      <th>MB-5653</th>\n",
        "      <th>MB-5654</th>\n",
        "    </tr>\n",
        "    <tr>\n",
        "      <th>IlluminaID</th>\n",
        "      <th></th>\n",
        "      <th></th>\n",
        "      <th></th>\n",
        "      <th></th>\n",
        "      <th></th>\n",
        "      <th></th>\n",
        "      <th></th>\n",
        "      <th></th>\n",
        "      <th></th>\n",
        "      <th></th>\n",
        "      <th></th>\n",
        "      <th></th>\n",
        "      <th></th>\n",
        "      <th></th>\n",
        "      <th></th>\n",
        "      <th></th>\n",
        "      <th></th>\n",
        "      <th></th>\n",
        "      <th></th>\n",
        "      <th></th>\n",
        "      <th></th>\n",
        "    </tr>\n",
        "  </thead>\n",
        "  <tbody>\n",
        "    <tr>\n",
        "      <th>ILMN_1725881</th>\n",
        "      <td> 0.002596</td>\n",
        "      <td> 0.020861</td>\n",
        "      <td> 0.183408</td>\n",
        "      <td>-0.050367</td>\n",
        "      <td>-0.066179</td>\n",
        "      <td> 0.005804</td>\n",
        "      <td> 0.158050</td>\n",
        "      <td> 0.128406</td>\n",
        "      <td>-0.008735</td>\n",
        "      <td> 0.090986</td>\n",
        "      <td>...</td>\n",
        "      <td>-0.171976</td>\n",
        "      <td> 0.030289</td>\n",
        "      <td> 0.475699</td>\n",
        "      <td> 0.267432</td>\n",
        "      <td> 0.259288</td>\n",
        "      <td> 0.032714</td>\n",
        "      <td> 0.286343</td>\n",
        "      <td>-0.065969</td>\n",
        "      <td>-0.072565</td>\n",
        "      <td>-0.253345</td>\n",
        "    </tr>\n",
        "    <tr>\n",
        "      <th>ILMN_1910180</th>\n",
        "      <td>-0.055572</td>\n",
        "      <td>-0.274476</td>\n",
        "      <td>-0.096966</td>\n",
        "      <td>-0.050367</td>\n",
        "      <td>-0.006605</td>\n",
        "      <td> 0.005804</td>\n",
        "      <td>-0.020728</td>\n",
        "      <td>-0.049297</td>\n",
        "      <td> 0.049546</td>\n",
        "      <td>-0.176588</td>\n",
        "      <td>...</td>\n",
        "      <td>-0.050812</td>\n",
        "      <td> 0.030289</td>\n",
        "      <td>-0.112099</td>\n",
        "      <td> 0.043141</td>\n",
        "      <td> 0.018849</td>\n",
        "      <td>-0.124988</td>\n",
        "      <td> 0.008031</td>\n",
        "      <td> 0.078520</td>\n",
        "      <td>-0.072565</td>\n",
        "      <td>-0.052818</td>\n",
        "    </tr>\n",
        "    <tr>\n",
        "      <th>ILMN_1804174</th>\n",
        "      <td> 0.060700</td>\n",
        "      <td> 0.258292</td>\n",
        "      <td> 0.261207</td>\n",
        "      <td> 0.195823</td>\n",
        "      <td> 0.166535</td>\n",
        "      <td> 0.331639</td>\n",
        "      <td> 0.269298</td>\n",
        "      <td> 0.364048</td>\n",
        "      <td>-0.008735</td>\n",
        "      <td> 0.416376</td>\n",
        "      <td>...</td>\n",
        "      <td> 0.147790</td>\n",
        "      <td>-0.363538</td>\n",
        "      <td>-0.112099</td>\n",
        "      <td> 0.043141</td>\n",
        "      <td> 0.018849</td>\n",
        "      <td> 0.185268</td>\n",
        "      <td> 0.159822</td>\n",
        "      <td> 0.279112</td>\n",
        "      <td>-0.072565</td>\n",
        "      <td> 0.400842</td>\n",
        "    </tr>\n",
        "    <tr>\n",
        "      <th>ILMN_1796063</th>\n",
        "      <td> 0.285353</td>\n",
        "      <td>-0.055292</td>\n",
        "      <td>-0.033560</td>\n",
        "      <td> 0.041584</td>\n",
        "      <td>-0.006605</td>\n",
        "      <td> 0.005804</td>\n",
        "      <td>-0.132713</td>\n",
        "      <td> 0.128406</td>\n",
        "      <td>-0.170906</td>\n",
        "      <td>-0.093154</td>\n",
        "      <td>...</td>\n",
        "      <td> 0.453157</td>\n",
        "      <td> 0.030289</td>\n",
        "      <td>-0.032610</td>\n",
        "      <td>-0.106541</td>\n",
        "      <td> 0.018849</td>\n",
        "      <td>-0.124988</td>\n",
        "      <td>-0.169936</td>\n",
        "      <td> 0.078520</td>\n",
        "      <td> 0.146275</td>\n",
        "      <td> 0.126084</td>\n",
        "    </tr>\n",
        "    <tr>\n",
        "      <th>ILMN_1811966</th>\n",
        "      <td> 0.060700</td>\n",
        "      <td>-0.055292</td>\n",
        "      <td>-0.096966</td>\n",
        "      <td> 0.041584</td>\n",
        "      <td>-0.211170</td>\n",
        "      <td>-0.065953</td>\n",
        "      <td>-0.073452</td>\n",
        "      <td>-0.049297</td>\n",
        "      <td>-0.170906</td>\n",
        "      <td>-0.002826</td>\n",
        "      <td>...</td>\n",
        "      <td>-0.050812</td>\n",
        "      <td> 0.030289</td>\n",
        "      <td>-0.301533</td>\n",
        "      <td> 0.043141</td>\n",
        "      <td> 0.018849</td>\n",
        "      <td>-0.124988</td>\n",
        "      <td> 0.008031</td>\n",
        "      <td> 0.078520</td>\n",
        "      <td>-0.072565</td>\n",
        "      <td>-0.052818</td>\n",
        "    </tr>\n",
        "  </tbody>\n",
        "</table>\n",
        "<p>5 rows \u00d7 997 columns</p>\n",
        "</div>"
       ],
       "metadata": {},
       "output_type": "pyout",
       "prompt_number": 108,
       "text": [
        "               MB-0002   MB-0008   MB-0010   MB-0035   MB-0036   MB-0050  \\\n",
        "IlluminaID                                                                 \n",
        "ILMN_1725881  0.002596  0.020861  0.183408 -0.050367 -0.066179  0.005804   \n",
        "ILMN_1910180 -0.055572 -0.274476 -0.096966 -0.050367 -0.006605  0.005804   \n",
        "ILMN_1804174  0.060700  0.258292  0.261207  0.195823  0.166535  0.331639   \n",
        "ILMN_1796063  0.285353 -0.055292 -0.033560  0.041584 -0.006605  0.005804   \n",
        "ILMN_1811966  0.060700 -0.055292 -0.096966  0.041584 -0.211170 -0.065953   \n",
        "\n",
        "               MB-0059   MB-0060   MB-0066   MB-0101    ...      MB-5634  \\\n",
        "IlluminaID                                              ...                \n",
        "ILMN_1725881  0.158050  0.128406 -0.008735  0.090986    ...    -0.171976   \n",
        "ILMN_1910180 -0.020728 -0.049297  0.049546 -0.176588    ...    -0.050812   \n",
        "ILMN_1804174  0.269298  0.364048 -0.008735  0.416376    ...     0.147790   \n",
        "ILMN_1796063 -0.132713  0.128406 -0.170906 -0.093154    ...     0.453157   \n",
        "ILMN_1811966 -0.073452 -0.049297 -0.170906 -0.002826    ...    -0.050812   \n",
        "\n",
        "               MB-5635   MB-5638   MB-5642   MB-5645   MB-5646   MB-5647  \\\n",
        "IlluminaID                                                                 \n",
        "ILMN_1725881  0.030289  0.475699  0.267432  0.259288  0.032714  0.286343   \n",
        "ILMN_1910180  0.030289 -0.112099  0.043141  0.018849 -0.124988  0.008031   \n",
        "ILMN_1804174 -0.363538 -0.112099  0.043141  0.018849  0.185268  0.159822   \n",
        "ILMN_1796063  0.030289 -0.032610 -0.106541  0.018849 -0.124988 -0.169936   \n",
        "ILMN_1811966  0.030289 -0.301533  0.043141  0.018849 -0.124988  0.008031   \n",
        "\n",
        "               MB-5651   MB-5653   MB-5654  \n",
        "IlluminaID                                  \n",
        "ILMN_1725881 -0.065969 -0.072565 -0.253345  \n",
        "ILMN_1910180  0.078520 -0.072565 -0.052818  \n",
        "ILMN_1804174  0.279112 -0.072565  0.400842  \n",
        "ILMN_1796063  0.078520  0.146275  0.126084  \n",
        "ILMN_1811966  0.078520 -0.072565 -0.052818  \n",
        "\n",
        "[5 rows x 997 columns]"
       ]
      }
     ],
     "prompt_number": 108
    },
    {
     "cell_type": "code",
     "collapsed": false,
     "input": [
      "#cna_seg_mean_per_sample.to_csv(\"output/metabric_cna_seg_mean_per_sample.tsv\", sep=\"\\t\")\n",
      "cna_seg_mean_per_sample = pd.read_csv(\"output/metabric_cna_seg_mean_per_sample.tsv\", sep=\"\\t\").set_index(\"IlluminaID\")"
     ],
     "language": "python",
     "metadata": {},
     "outputs": [],
     "prompt_number": 32
    },
    {
     "cell_type": "markdown",
     "metadata": {},
     "source": [
      "Some genes have multiple probes"
     ]
    },
    {
     "cell_type": "code",
     "collapsed": false,
     "input": [
      "len(probe2gene_f.SymbolReannotated.unique())"
     ],
     "language": "python",
     "metadata": {},
     "outputs": [
      {
       "metadata": {},
       "output_type": "pyout",
       "prompt_number": 21,
       "text": [
        "31937"
       ]
      }
     ],
     "prompt_number": 21
    },
    {
     "cell_type": "heading",
     "level": 2,
     "metadata": {},
     "source": [
      "Probe expression"
     ]
    },
    {
     "cell_type": "code",
     "collapsed": false,
     "input": [
      "exp = pd.read_csv(\"data/discovery_ExpressionMatrix.txt\", sep=\"\\t\")"
     ],
     "language": "python",
     "metadata": {},
     "outputs": [],
     "prompt_number": 22
    },
    {
     "cell_type": "code",
     "collapsed": false,
     "input": [
      "exp.head()"
     ],
     "language": "python",
     "metadata": {},
     "outputs": [
      {
       "html": [
        "<div style=\"max-height:1000px;max-width:1500px;overflow:auto;\">\n",
        "<table border=\"1\" class=\"dataframe\">\n",
        "  <thead>\n",
        "    <tr style=\"text-align: right;\">\n",
        "      <th></th>\n",
        "      <th>MB-0362</th>\n",
        "      <th>MB-0346</th>\n",
        "      <th>MB-0386</th>\n",
        "      <th>MB-0574</th>\n",
        "      <th>MB-0185</th>\n",
        "      <th>MB-0503</th>\n",
        "      <th>MB-0641</th>\n",
        "      <th>MB-0201</th>\n",
        "      <th>MB-0218</th>\n",
        "      <th>MB-0316</th>\n",
        "      <th>...</th>\n",
        "      <th>MB-3028</th>\n",
        "      <th>MB-3502</th>\n",
        "      <th>MB-3567</th>\n",
        "      <th>MB-3752</th>\n",
        "      <th>MB-3450</th>\n",
        "      <th>MB-0444</th>\n",
        "      <th>MB-0476</th>\n",
        "      <th>MB-0610</th>\n",
        "      <th>MB-0451</th>\n",
        "      <th>MB-0133</th>\n",
        "    </tr>\n",
        "  </thead>\n",
        "  <tbody>\n",
        "    <tr>\n",
        "      <th>ILMN_1802380</th>\n",
        "      <td> 8.676978</td>\n",
        "      <td> 9.653589</td>\n",
        "      <td> 9.033589</td>\n",
        "      <td> 8.814855</td>\n",
        "      <td> 8.736406</td>\n",
        "      <td> 9.274265</td>\n",
        "      <td> 9.286585</td>\n",
        "      <td> 8.437347</td>\n",
        "      <td> 8.569973</td>\n",
        "      <td> 8.892102</td>\n",
        "      <td>...</td>\n",
        "      <td> 8.302470</td>\n",
        "      <td> 8.055221</td>\n",
        "      <td> 8.933732</td>\n",
        "      <td> 8.860750</td>\n",
        "      <td> 9.203416</td>\n",
        "      <td> 8.850144</td>\n",
        "      <td> 9.132276</td>\n",
        "      <td> 8.463972</td>\n",
        "      <td> 9.431141</td>\n",
        "      <td> 9.522827</td>\n",
        "    </tr>\n",
        "    <tr>\n",
        "      <th>ILMN_1893287</th>\n",
        "      <td> 5.298711</td>\n",
        "      <td> 5.378801</td>\n",
        "      <td> 5.606122</td>\n",
        "      <td> 5.316155</td>\n",
        "      <td> 5.303613</td>\n",
        "      <td> 5.449802</td>\n",
        "      <td> 5.352225</td>\n",
        "      <td> 5.409247</td>\n",
        "      <td> 5.415837</td>\n",
        "      <td> 5.330843</td>\n",
        "      <td>...</td>\n",
        "      <td> 5.232446</td>\n",
        "      <td> 5.388753</td>\n",
        "      <td> 5.354665</td>\n",
        "      <td> 5.392239</td>\n",
        "      <td> 5.319260</td>\n",
        "      <td> 5.333344</td>\n",
        "      <td> 5.119812</td>\n",
        "      <td> 5.427502</td>\n",
        "      <td> 5.240360</td>\n",
        "      <td> 5.410687</td>\n",
        "    </tr>\n",
        "    <tr>\n",
        "      <th>ILMN_1736104</th>\n",
        "      <td> 5.430877</td>\n",
        "      <td> 5.199253</td>\n",
        "      <td> 5.449121</td>\n",
        "      <td> 5.309371</td>\n",
        "      <td> 5.438538</td>\n",
        "      <td> 5.347851</td>\n",
        "      <td> 5.381606</td>\n",
        "      <td> 5.300736</td>\n",
        "      <td> 5.258446</td>\n",
        "      <td> 5.330061</td>\n",
        "      <td>...</td>\n",
        "      <td> 5.386616</td>\n",
        "      <td> 5.196017</td>\n",
        "      <td> 5.316454</td>\n",
        "      <td> 5.224660</td>\n",
        "      <td> 5.151763</td>\n",
        "      <td> 5.331756</td>\n",
        "      <td> 5.760381</td>\n",
        "      <td> 5.417951</td>\n",
        "      <td> 5.258674</td>\n",
        "      <td> 5.199461</td>\n",
        "    </tr>\n",
        "    <tr>\n",
        "      <th>ILMN_1792389</th>\n",
        "      <td> 6.075331</td>\n",
        "      <td> 6.687887</td>\n",
        "      <td> 5.910885</td>\n",
        "      <td> 5.628740</td>\n",
        "      <td> 6.392422</td>\n",
        "      <td> 5.908698</td>\n",
        "      <td> 6.206729</td>\n",
        "      <td> 6.095592</td>\n",
        "      <td> 6.383530</td>\n",
        "      <td> 5.773691</td>\n",
        "      <td>...</td>\n",
        "      <td> 5.905694</td>\n",
        "      <td> 6.255316</td>\n",
        "      <td> 5.822159</td>\n",
        "      <td> 6.933474</td>\n",
        "      <td> 5.927441</td>\n",
        "      <td> 6.440723</td>\n",
        "      <td> 6.315227</td>\n",
        "      <td> 5.928433</td>\n",
        "      <td> 8.670881</td>\n",
        "      <td> 6.785574</td>\n",
        "    </tr>\n",
        "    <tr>\n",
        "      <th>ILMN_1854015</th>\n",
        "      <td> 5.595625</td>\n",
        "      <td> 6.010127</td>\n",
        "      <td> 5.683969</td>\n",
        "      <td> 5.479983</td>\n",
        "      <td> 6.013500</td>\n",
        "      <td> 5.939949</td>\n",
        "      <td> 5.433644</td>\n",
        "      <td> 5.848395</td>\n",
        "      <td> 5.898202</td>\n",
        "      <td> 5.833338</td>\n",
        "      <td>...</td>\n",
        "      <td> 5.744837</td>\n",
        "      <td> 5.679208</td>\n",
        "      <td> 6.100608</td>\n",
        "      <td> 6.116170</td>\n",
        "      <td> 5.958354</td>\n",
        "      <td> 5.814739</td>\n",
        "      <td> 6.113891</td>\n",
        "      <td> 6.192337</td>\n",
        "      <td> 5.937419</td>\n",
        "      <td> 5.793706</td>\n",
        "    </tr>\n",
        "  </tbody>\n",
        "</table>\n",
        "<p>5 rows \u00d7 997 columns</p>\n",
        "</div>"
       ],
       "metadata": {},
       "output_type": "pyout",
       "prompt_number": 23,
       "text": [
        "               MB-0362   MB-0346   MB-0386   MB-0574   MB-0185   MB-0503  \\\n",
        "ILMN_1802380  8.676978  9.653589  9.033589  8.814855  8.736406  9.274265   \n",
        "ILMN_1893287  5.298711  5.378801  5.606122  5.316155  5.303613  5.449802   \n",
        "ILMN_1736104  5.430877  5.199253  5.449121  5.309371  5.438538  5.347851   \n",
        "ILMN_1792389  6.075331  6.687887  5.910885  5.628740  6.392422  5.908698   \n",
        "ILMN_1854015  5.595625  6.010127  5.683969  5.479983  6.013500  5.939949   \n",
        "\n",
        "               MB-0641   MB-0201   MB-0218   MB-0316    ...      MB-3028  \\\n",
        "ILMN_1802380  9.286585  8.437347  8.569973  8.892102    ...     8.302470   \n",
        "ILMN_1893287  5.352225  5.409247  5.415837  5.330843    ...     5.232446   \n",
        "ILMN_1736104  5.381606  5.300736  5.258446  5.330061    ...     5.386616   \n",
        "ILMN_1792389  6.206729  6.095592  6.383530  5.773691    ...     5.905694   \n",
        "ILMN_1854015  5.433644  5.848395  5.898202  5.833338    ...     5.744837   \n",
        "\n",
        "               MB-3502   MB-3567   MB-3752   MB-3450   MB-0444   MB-0476  \\\n",
        "ILMN_1802380  8.055221  8.933732  8.860750  9.203416  8.850144  9.132276   \n",
        "ILMN_1893287  5.388753  5.354665  5.392239  5.319260  5.333344  5.119812   \n",
        "ILMN_1736104  5.196017  5.316454  5.224660  5.151763  5.331756  5.760381   \n",
        "ILMN_1792389  6.255316  5.822159  6.933474  5.927441  6.440723  6.315227   \n",
        "ILMN_1854015  5.679208  6.100608  6.116170  5.958354  5.814739  6.113891   \n",
        "\n",
        "               MB-0610   MB-0451   MB-0133  \n",
        "ILMN_1802380  8.463972  9.431141  9.522827  \n",
        "ILMN_1893287  5.427502  5.240360  5.410687  \n",
        "ILMN_1736104  5.417951  5.258674  5.199461  \n",
        "ILMN_1792389  5.928433  8.670881  6.785574  \n",
        "ILMN_1854015  6.192337  5.937419  5.793706  \n",
        "\n",
        "[5 rows x 997 columns]"
       ]
      }
     ],
     "prompt_number": 23
    },
    {
     "cell_type": "code",
     "collapsed": false,
     "input": [
      "import scipy.stats"
     ],
     "language": "python",
     "metadata": {},
     "outputs": [],
     "prompt_number": 24
    },
    {
     "cell_type": "code",
     "collapsed": false,
     "input": [
      "scipy.stats.spearmanr(cna_seg_mean_per_sample.ix[\"ILMN_1804174\", :], exp.ix[\"ILMN_1804174\", :])"
     ],
     "language": "python",
     "metadata": {},
     "outputs": [
      {
       "metadata": {},
       "output_type": "pyout",
       "prompt_number": 60,
       "text": [
        "(0.019310763252889749, 0.54250114080807144)"
       ]
      }
     ],
     "prompt_number": 60
    },
    {
     "cell_type": "code",
     "collapsed": false,
     "input": [
      "gene_intersect"
     ],
     "language": "python",
     "metadata": {},
     "outputs": [
      {
       "metadata": {},
       "output_type": "pyout",
       "prompt_number": 28,
       "text": [
        "Index([], dtype='object')"
       ]
      }
     ],
     "prompt_number": 28
    },
    {
     "cell_type": "code",
     "collapsed": false,
     "input": [
      "cna_seg_mean_per_sample.head()"
     ],
     "language": "python",
     "metadata": {},
     "outputs": [
      {
       "html": [
        "<div style=\"max-height:1000px;max-width:1500px;overflow:auto;\">\n",
        "<table border=\"1\" class=\"dataframe\">\n",
        "  <thead>\n",
        "    <tr style=\"text-align: right;\">\n",
        "      <th></th>\n",
        "      <th>MB-0002</th>\n",
        "      <th>MB-0008</th>\n",
        "      <th>MB-0010</th>\n",
        "      <th>MB-0035</th>\n",
        "      <th>MB-0036</th>\n",
        "      <th>MB-0050</th>\n",
        "      <th>MB-0059</th>\n",
        "      <th>MB-0060</th>\n",
        "      <th>MB-0066</th>\n",
        "      <th>MB-0101</th>\n",
        "      <th>...</th>\n",
        "      <th>MB-5634</th>\n",
        "      <th>MB-5635</th>\n",
        "      <th>MB-5638</th>\n",
        "      <th>MB-5642</th>\n",
        "      <th>MB-5645</th>\n",
        "      <th>MB-5646</th>\n",
        "      <th>MB-5647</th>\n",
        "      <th>MB-5651</th>\n",
        "      <th>MB-5653</th>\n",
        "      <th>MB-5654</th>\n",
        "    </tr>\n",
        "    <tr>\n",
        "      <th>IlluminaID</th>\n",
        "      <th></th>\n",
        "      <th></th>\n",
        "      <th></th>\n",
        "      <th></th>\n",
        "      <th></th>\n",
        "      <th></th>\n",
        "      <th></th>\n",
        "      <th></th>\n",
        "      <th></th>\n",
        "      <th></th>\n",
        "      <th></th>\n",
        "      <th></th>\n",
        "      <th></th>\n",
        "      <th></th>\n",
        "      <th></th>\n",
        "      <th></th>\n",
        "      <th></th>\n",
        "      <th></th>\n",
        "      <th></th>\n",
        "      <th></th>\n",
        "      <th></th>\n",
        "    </tr>\n",
        "  </thead>\n",
        "  <tbody>\n",
        "    <tr>\n",
        "      <th>ILMN_1725881</th>\n",
        "      <td> 0.002596</td>\n",
        "      <td> 0.020861</td>\n",
        "      <td> 0.183408</td>\n",
        "      <td>-0.050367</td>\n",
        "      <td>-0.066179</td>\n",
        "      <td> 0.005804</td>\n",
        "      <td> 0.158050</td>\n",
        "      <td> 0.128406</td>\n",
        "      <td>-0.008735</td>\n",
        "      <td> 0.090986</td>\n",
        "      <td>...</td>\n",
        "      <td>-0.171976</td>\n",
        "      <td> 0.030289</td>\n",
        "      <td> 0.475699</td>\n",
        "      <td> 0.267432</td>\n",
        "      <td> 0.259288</td>\n",
        "      <td> 0.032714</td>\n",
        "      <td> 0.286343</td>\n",
        "      <td>-0.065969</td>\n",
        "      <td>-0.072565</td>\n",
        "      <td>-0.253345</td>\n",
        "    </tr>\n",
        "    <tr>\n",
        "      <th>ILMN_1910180</th>\n",
        "      <td>-0.055572</td>\n",
        "      <td>-0.274476</td>\n",
        "      <td>-0.096966</td>\n",
        "      <td>-0.050367</td>\n",
        "      <td>-0.006605</td>\n",
        "      <td> 0.005804</td>\n",
        "      <td>-0.020728</td>\n",
        "      <td>-0.049297</td>\n",
        "      <td> 0.049546</td>\n",
        "      <td>-0.176588</td>\n",
        "      <td>...</td>\n",
        "      <td>-0.050812</td>\n",
        "      <td> 0.030289</td>\n",
        "      <td>-0.112099</td>\n",
        "      <td> 0.043141</td>\n",
        "      <td> 0.018849</td>\n",
        "      <td>-0.124988</td>\n",
        "      <td> 0.008031</td>\n",
        "      <td> 0.078520</td>\n",
        "      <td>-0.072565</td>\n",
        "      <td>-0.052818</td>\n",
        "    </tr>\n",
        "    <tr>\n",
        "      <th>ILMN_1804174</th>\n",
        "      <td> 0.060700</td>\n",
        "      <td> 0.258292</td>\n",
        "      <td> 0.261207</td>\n",
        "      <td> 0.195823</td>\n",
        "      <td> 0.166535</td>\n",
        "      <td> 0.331639</td>\n",
        "      <td> 0.269298</td>\n",
        "      <td> 0.364048</td>\n",
        "      <td>-0.008735</td>\n",
        "      <td> 0.416376</td>\n",
        "      <td>...</td>\n",
        "      <td> 0.147790</td>\n",
        "      <td>-0.363538</td>\n",
        "      <td>-0.112099</td>\n",
        "      <td> 0.043141</td>\n",
        "      <td> 0.018849</td>\n",
        "      <td> 0.185268</td>\n",
        "      <td> 0.159822</td>\n",
        "      <td> 0.279112</td>\n",
        "      <td>-0.072565</td>\n",
        "      <td> 0.400842</td>\n",
        "    </tr>\n",
        "    <tr>\n",
        "      <th>ILMN_1796063</th>\n",
        "      <td> 0.285353</td>\n",
        "      <td>-0.055292</td>\n",
        "      <td>-0.033560</td>\n",
        "      <td> 0.041584</td>\n",
        "      <td>-0.006605</td>\n",
        "      <td> 0.005804</td>\n",
        "      <td>-0.132713</td>\n",
        "      <td> 0.128406</td>\n",
        "      <td>-0.170906</td>\n",
        "      <td>-0.093154</td>\n",
        "      <td>...</td>\n",
        "      <td> 0.453157</td>\n",
        "      <td> 0.030289</td>\n",
        "      <td>-0.032610</td>\n",
        "      <td>-0.106541</td>\n",
        "      <td> 0.018849</td>\n",
        "      <td>-0.124988</td>\n",
        "      <td>-0.169936</td>\n",
        "      <td> 0.078520</td>\n",
        "      <td> 0.146275</td>\n",
        "      <td> 0.126084</td>\n",
        "    </tr>\n",
        "    <tr>\n",
        "      <th>ILMN_1811966</th>\n",
        "      <td> 0.060700</td>\n",
        "      <td>-0.055292</td>\n",
        "      <td>-0.096966</td>\n",
        "      <td> 0.041584</td>\n",
        "      <td>-0.211170</td>\n",
        "      <td>-0.065953</td>\n",
        "      <td>-0.073452</td>\n",
        "      <td>-0.049297</td>\n",
        "      <td>-0.170906</td>\n",
        "      <td>-0.002826</td>\n",
        "      <td>...</td>\n",
        "      <td>-0.050812</td>\n",
        "      <td> 0.030289</td>\n",
        "      <td>-0.301533</td>\n",
        "      <td> 0.043141</td>\n",
        "      <td> 0.018849</td>\n",
        "      <td>-0.124988</td>\n",
        "      <td> 0.008031</td>\n",
        "      <td> 0.078520</td>\n",
        "      <td>-0.072565</td>\n",
        "      <td>-0.052818</td>\n",
        "    </tr>\n",
        "  </tbody>\n",
        "</table>\n",
        "<p>5 rows \u00d7 997 columns</p>\n",
        "</div>"
       ],
       "metadata": {},
       "output_type": "pyout",
       "prompt_number": 33,
       "text": [
        "               MB-0002   MB-0008   MB-0010   MB-0035   MB-0036   MB-0050  \\\n",
        "IlluminaID                                                                 \n",
        "ILMN_1725881  0.002596  0.020861  0.183408 -0.050367 -0.066179  0.005804   \n",
        "ILMN_1910180 -0.055572 -0.274476 -0.096966 -0.050367 -0.006605  0.005804   \n",
        "ILMN_1804174  0.060700  0.258292  0.261207  0.195823  0.166535  0.331639   \n",
        "ILMN_1796063  0.285353 -0.055292 -0.033560  0.041584 -0.006605  0.005804   \n",
        "ILMN_1811966  0.060700 -0.055292 -0.096966  0.041584 -0.211170 -0.065953   \n",
        "\n",
        "               MB-0059   MB-0060   MB-0066   MB-0101    ...      MB-5634  \\\n",
        "IlluminaID                                              ...                \n",
        "ILMN_1725881  0.158050  0.128406 -0.008735  0.090986    ...    -0.171976   \n",
        "ILMN_1910180 -0.020728 -0.049297  0.049546 -0.176588    ...    -0.050812   \n",
        "ILMN_1804174  0.269298  0.364048 -0.008735  0.416376    ...     0.147790   \n",
        "ILMN_1796063 -0.132713  0.128406 -0.170906 -0.093154    ...     0.453157   \n",
        "ILMN_1811966 -0.073452 -0.049297 -0.170906 -0.002826    ...    -0.050812   \n",
        "\n",
        "               MB-5635   MB-5638   MB-5642   MB-5645   MB-5646   MB-5647  \\\n",
        "IlluminaID                                                                 \n",
        "ILMN_1725881  0.030289  0.475699  0.267432  0.259288  0.032714  0.286343   \n",
        "ILMN_1910180  0.030289 -0.112099  0.043141  0.018849 -0.124988  0.008031   \n",
        "ILMN_1804174 -0.363538 -0.112099  0.043141  0.018849  0.185268  0.159822   \n",
        "ILMN_1796063  0.030289 -0.032610 -0.106541  0.018849 -0.124988 -0.169936   \n",
        "ILMN_1811966  0.030289 -0.301533  0.043141  0.018849 -0.124988  0.008031   \n",
        "\n",
        "               MB-5651   MB-5653   MB-5654  \n",
        "IlluminaID                                  \n",
        "ILMN_1725881 -0.065969 -0.072565 -0.253345  \n",
        "ILMN_1910180  0.078520 -0.072565 -0.052818  \n",
        "ILMN_1804174  0.279112 -0.072565  0.400842  \n",
        "ILMN_1796063  0.078520  0.146275  0.126084  \n",
        "ILMN_1811966  0.078520 -0.072565 -0.052818  \n",
        "\n",
        "[5 rows x 997 columns]"
       ]
      }
     ],
     "prompt_number": 33
    },
    {
     "cell_type": "code",
     "collapsed": false,
     "input": [
      "sample_intersect = pd.Index(sorted(list(set(cna_seg_mean_per_sample.columns).intersection(set(exp.columns)))))\n",
      "probe_intersect = pd.Index(sorted(list(set(cna_seg_mean_per_sample.index).intersection(set(exp.index)))))\n",
      "exp_i = exp.ix[probe_intersect, sample_intersect]\n",
      "cna_seg_mean_per_sample_i =  cna_seg_mean_per_sample.ix[probe_intersect, sample_intersect]"
     ],
     "language": "python",
     "metadata": {},
     "outputs": [],
     "prompt_number": 187
    },
    {
     "cell_type": "code",
     "collapsed": false,
     "input": [
      "cna_vs_exp = pd.DataFrame(index=cna_seg_mean_per_sample_i.index)\n",
      "cna_vs_exp = cna_seg_mean_per_sample_i.apply(lambda x: scipy.stats.spearmanr(x, exp_i.ix[x.name, :]), axis=1)\n",
      "cna_vs_exp = pd.DataFrame({\"corr\":cna_vs_exp.apply(lambda x: float(x[0])),\"p2tailed\":cna_vs_exp.apply(lambda x: float(x[1]))})"
     ],
     "language": "python",
     "metadata": {},
     "outputs": [],
     "prompt_number": 188
    },
    {
     "cell_type": "code",
     "collapsed": false,
     "input": [
      "cna_vs_exp.head()"
     ],
     "language": "python",
     "metadata": {},
     "outputs": [
      {
       "html": [
        "<div style=\"max-height:1000px;max-width:1500px;overflow:auto;\">\n",
        "<table border=\"1\" class=\"dataframe\">\n",
        "  <thead>\n",
        "    <tr style=\"text-align: right;\">\n",
        "      <th></th>\n",
        "      <th>corr</th>\n",
        "      <th>p2tailed</th>\n",
        "    </tr>\n",
        "  </thead>\n",
        "  <tbody>\n",
        "    <tr>\n",
        "      <th>ILMN_1343291</th>\n",
        "      <td> 0.065803</td>\n",
        "      <td> 3.776468e-02</td>\n",
        "    </tr>\n",
        "    <tr>\n",
        "      <th>ILMN_1343295</th>\n",
        "      <td> 0.292740</td>\n",
        "      <td> 3.752436e-21</td>\n",
        "    </tr>\n",
        "    <tr>\n",
        "      <th>ILMN_1651209</th>\n",
        "      <td> 0.000523</td>\n",
        "      <td> 9.868355e-01</td>\n",
        "    </tr>\n",
        "    <tr>\n",
        "      <th>ILMN_1651221</th>\n",
        "      <td>-0.012037</td>\n",
        "      <td> 7.042271e-01</td>\n",
        "    </tr>\n",
        "    <tr>\n",
        "      <th>ILMN_1651228</th>\n",
        "      <td> 0.180417</td>\n",
        "      <td> 9.653679e-09</td>\n",
        "    </tr>\n",
        "  </tbody>\n",
        "</table>\n",
        "</div>"
       ],
       "metadata": {},
       "output_type": "pyout",
       "prompt_number": 94,
       "text": [
        "                  corr      p2tailed\n",
        "ILMN_1343291  0.065803  3.776468e-02\n",
        "ILMN_1343295  0.292740  3.752436e-21\n",
        "ILMN_1651209  0.000523  9.868355e-01\n",
        "ILMN_1651221 -0.012037  7.042271e-01\n",
        "ILMN_1651228  0.180417  9.653679e-09"
       ]
      }
     ],
     "prompt_number": 94
    },
    {
     "cell_type": "code",
     "collapsed": false,
     "input": [
      "len(cna_vs_exp)"
     ],
     "language": "python",
     "metadata": {},
     "outputs": [
      {
       "metadata": {},
       "output_type": "pyout",
       "prompt_number": 95,
       "text": [
        "45180"
       ]
      }
     ],
     "prompt_number": 95
    },
    {
     "cell_type": "heading",
     "level": 2,
     "metadata": {},
     "source": [
      "FDR Benjamini-Hochberg"
     ]
    },
    {
     "cell_type": "code",
     "collapsed": false,
     "input": [
      "from statsmodels.sandbox.stats.multicomp import multipletests\n",
      "import math"
     ],
     "language": "python",
     "metadata": {},
     "outputs": [],
     "prompt_number": 96
    },
    {
     "cell_type": "code",
     "collapsed": false,
     "input": [
      "cna_vs_exp[\"p2tailed_adj\"] = multipletests(cna_vs_exp.p2tailed, alpha=0.05, method=\"fdr_bh\")[1]\n",
      "cna_vs_exp[\"p2tailed_adj_bool\"] = multipletests(cna_vs_exp.p2tailed, alpha=0.05, method=\"fdr_bh\")[0]"
     ],
     "language": "python",
     "metadata": {},
     "outputs": [],
     "prompt_number": 97
    },
    {
     "cell_type": "code",
     "collapsed": false,
     "input": [
      "cna_vs_exp.head()"
     ],
     "language": "python",
     "metadata": {},
     "outputs": [
      {
       "html": [
        "<div style=\"max-height:1000px;max-width:1500px;overflow:auto;\">\n",
        "<table border=\"1\" class=\"dataframe\">\n",
        "  <thead>\n",
        "    <tr style=\"text-align: right;\">\n",
        "      <th></th>\n",
        "      <th>corr</th>\n",
        "      <th>p2tailed</th>\n",
        "      <th>p2tailed_adj</th>\n",
        "      <th>p2tailed_adj_bool</th>\n",
        "    </tr>\n",
        "  </thead>\n",
        "  <tbody>\n",
        "    <tr>\n",
        "      <th>ILMN_1343291</th>\n",
        "      <td> 0.065803</td>\n",
        "      <td> 3.776468e-02</td>\n",
        "      <td> 8.880950e-02</td>\n",
        "      <td> False</td>\n",
        "    </tr>\n",
        "    <tr>\n",
        "      <th>ILMN_1343295</th>\n",
        "      <td> 0.292740</td>\n",
        "      <td> 3.752436e-21</td>\n",
        "      <td> 3.215763e-20</td>\n",
        "      <td>  True</td>\n",
        "    </tr>\n",
        "    <tr>\n",
        "      <th>ILMN_1651209</th>\n",
        "      <td> 0.000523</td>\n",
        "      <td> 9.868355e-01</td>\n",
        "      <td> 9.935870e-01</td>\n",
        "      <td> False</td>\n",
        "    </tr>\n",
        "    <tr>\n",
        "      <th>ILMN_1651221</th>\n",
        "      <td>-0.012037</td>\n",
        "      <td> 7.042271e-01</td>\n",
        "      <td> 8.272863e-01</td>\n",
        "      <td> False</td>\n",
        "    </tr>\n",
        "    <tr>\n",
        "      <th>ILMN_1651228</th>\n",
        "      <td> 0.180417</td>\n",
        "      <td> 9.653679e-09</td>\n",
        "      <td> 4.307261e-08</td>\n",
        "      <td>  True</td>\n",
        "    </tr>\n",
        "  </tbody>\n",
        "</table>\n",
        "</div>"
       ],
       "metadata": {},
       "output_type": "pyout",
       "prompt_number": 98,
       "text": [
        "                  corr      p2tailed  p2tailed_adj p2tailed_adj_bool\n",
        "ILMN_1343291  0.065803  3.776468e-02  8.880950e-02             False\n",
        "ILMN_1343295  0.292740  3.752436e-21  3.215763e-20              True\n",
        "ILMN_1651209  0.000523  9.868355e-01  9.935870e-01             False\n",
        "ILMN_1651221 -0.012037  7.042271e-01  8.272863e-01             False\n",
        "ILMN_1651228  0.180417  9.653679e-09  4.307261e-08              True"
       ]
      }
     ],
     "prompt_number": 98
    },
    {
     "cell_type": "code",
     "collapsed": false,
     "input": [
      "(cna_vs_exp.p2tailed < 0.05).sum()"
     ],
     "language": "python",
     "metadata": {},
     "outputs": [
      {
       "metadata": {},
       "output_type": "pyout",
       "prompt_number": 99,
       "text": [
        "19961"
       ]
      }
     ],
     "prompt_number": 99
    },
    {
     "cell_type": "code",
     "collapsed": false,
     "input": [
      "cna_vs_exp.p2tailed_adj_bool.sum()"
     ],
     "language": "python",
     "metadata": {},
     "outputs": [
      {
       "metadata": {},
       "output_type": "pyout",
       "prompt_number": 100,
       "text": [
        "17985"
       ]
      }
     ],
     "prompt_number": 100
    },
    {
     "cell_type": "code",
     "collapsed": false,
     "input": [
      "((cna_vs_exp[\"corr\"] > 0) & (cna_vs_exp[\"corr\"] ** cna_vs_exp[\"corr\"] > 0.4) & cna_vs_exp.p2tailed_adj_bool).sum()"
     ],
     "language": "python",
     "metadata": {},
     "outputs": [
      {
       "metadata": {},
       "output_type": "pyout",
       "prompt_number": 102,
       "text": [
        "16881"
       ]
      }
     ],
     "prompt_number": 102
    },
    {
     "cell_type": "code",
     "collapsed": true,
     "input": [
      "cna_vs_exp[\"gene\"] = probe2gene_f.ix[cna_vs_exp.index, [\"SymbolReannotated\"]]"
     ],
     "language": "python",
     "metadata": {},
     "outputs": [],
     "prompt_number": 103
    },
    {
     "cell_type": "code",
     "collapsed": false,
     "input": [
      "# correlation positive, R squared bigger than 0.4 and adj p value < alpha\n",
      "cna_vs_exp[\"all_criteria_met\"] = ((cna_vs_exp[\"corr\"] > 0) & (cna_vs_exp[\"corr\"] ** cna_vs_exp[\"corr\"] > 0.4) & cna_vs_exp.p2tailed_adj_bool)"
     ],
     "language": "python",
     "metadata": {},
     "outputs": [],
     "prompt_number": 104
    },
    {
     "cell_type": "code",
     "collapsed": false,
     "input": [
      "cna_vs_exp.groupby(\"gene\").all_criteria_met.apply(np.all).sum()"
     ],
     "language": "python",
     "metadata": {},
     "outputs": [
      {
       "metadata": {},
       "output_type": "pyout",
       "prompt_number": 105,
       "text": [
        "9622"
       ]
      }
     ],
     "prompt_number": 105
    },
    {
     "cell_type": "code",
     "collapsed": false,
     "input": [
      "cna_vs_exp[\"probe_stddev\"] = stds[cna_vs_exp.index]"
     ],
     "language": "python",
     "metadata": {},
     "outputs": [],
     "prompt_number": 108
    },
    {
     "cell_type": "code",
     "collapsed": false,
     "input": [
      "cna_vs_exp.to_csv(\"output/metabric_cna_vs_exp_all_probes.tsv\", sep=\"\\t\")"
     ],
     "language": "python",
     "metadata": {},
     "outputs": [],
     "prompt_number": 124
    },
    {
     "cell_type": "code",
     "collapsed": false,
     "input": [
      "cna_vs_exp[cna_vs_exp.probe_stddev > 0.5].groupby(\"gene\").all_criteria_met.apply(np.any).sum()"
     ],
     "language": "python",
     "metadata": {},
     "outputs": [
      {
       "metadata": {},
       "output_type": "pyout",
       "prompt_number": 117,
       "text": [
        "3387"
       ]
      }
     ],
     "prompt_number": 117
    },
    {
     "cell_type": "code",
     "collapsed": false,
     "input": [
      "genes = cna_vs_exp[cna_vs_exp.probe_stddev > 0.5].groupby(\"gene\").all_criteria_met.apply(np.any)"
     ],
     "language": "python",
     "metadata": {},
     "outputs": [],
     "prompt_number": 121
    },
    {
     "cell_type": "code",
     "collapsed": false,
     "input": [
      "genes = probe2gene_f.ix[cna_vs_exp[(cna_vs_exp[\"corr\"] > 0) & (cna_vs_exp[\"corr\"] ** cna_vs_exp[\"corr\"] > 0.4) & cna_vs_exp.p2tailed_adj_bool].index, [\"SymbolReannotated\"]]"
     ],
     "language": "python",
     "metadata": {},
     "outputs": [],
     "prompt_number": 45
    },
    {
     "cell_type": "code",
     "collapsed": false,
     "input": [
      "len(genes.index.unique())"
     ],
     "language": "python",
     "metadata": {},
     "outputs": [
      {
       "metadata": {},
       "output_type": "pyout",
       "prompt_number": 46,
       "text": [
        "16881"
       ]
      }
     ],
     "prompt_number": 46
    },
    {
     "cell_type": "code",
     "collapsed": false,
     "input": [
      "len(genes.SymbolReannotated.unique())"
     ],
     "language": "python",
     "metadata": {},
     "outputs": [
      {
       "metadata": {},
       "output_type": "pyout",
       "prompt_number": 74,
       "text": [
        "26"
       ]
      }
     ],
     "prompt_number": 74
    },
    {
     "cell_type": "code",
     "collapsed": false,
     "input": [
      "genes.SymbolReannotated.value_counts()"
     ],
     "language": "python",
     "metadata": {},
     "outputs": [
      {
       "metadata": {},
       "output_type": "pyout",
       "prompt_number": 47,
       "text": [
        "SMA4             11\n",
        "FLJ00326         10\n",
        "NME1              8\n",
        "SLX1B-SULT1A4     8\n",
        "NBPF1             8\n",
        "ANG               7\n",
        "RPSA              7\n",
        "SON               7\n",
        "S100A13           7\n",
        "CPNE1             7\n",
        "PTPRA             6\n",
        "PDPK1             6\n",
        "PRR5              6\n",
        "AK4               6\n",
        "FAM115C           6\n",
        "...\n",
        "ZNF558      1\n",
        "MSX2        1\n",
        "MSX1        1\n",
        "TSPAN7      1\n",
        "ST8SIA5     1\n",
        "ZNF552      1\n",
        "OSGEPL1     1\n",
        "ZNF555      1\n",
        "C22orf13    1\n",
        "ZNF557      1\n",
        "MED11       1\n",
        "ESCO1       1\n",
        "PRPF19      1\n",
        "C14orf80    1\n",
        "FAM84B      1\n",
        "Length: 12339, dtype: int64"
       ]
      }
     ],
     "prompt_number": 47
    },
    {
     "cell_type": "code",
     "collapsed": false,
     "input": [
      "cna_vs_exp.ix[genes.index[genes.SymbolReannotated == \"PIM3\"], :]"
     ],
     "language": "python",
     "metadata": {},
     "outputs": [
      {
       "html": [
        "<div style=\"max-height:1000px;max-width:1500px;overflow:auto;\">\n",
        "<table border=\"1\" class=\"dataframe\">\n",
        "  <thead>\n",
        "    <tr style=\"text-align: right;\">\n",
        "      <th></th>\n",
        "      <th>corr</th>\n",
        "      <th>p2tailed</th>\n",
        "      <th>p2tailed_adj</th>\n",
        "      <th>p2tailed_adj_bool</th>\n",
        "    </tr>\n",
        "  </thead>\n",
        "  <tbody>\n",
        "    <tr>\n",
        "      <th>ILMN_1672034</th>\n",
        "      <td> 0.095271</td>\n",
        "      <td> 0.002602</td>\n",
        "      <td> 0.007575</td>\n",
        "      <td> True</td>\n",
        "    </tr>\n",
        "    <tr>\n",
        "      <th>ILMN_1789781</th>\n",
        "      <td> 0.147800</td>\n",
        "      <td> 0.000003</td>\n",
        "      <td> 0.000011</td>\n",
        "      <td> True</td>\n",
        "    </tr>\n",
        "  </tbody>\n",
        "</table>\n",
        "</div>"
       ],
       "metadata": {},
       "output_type": "pyout",
       "prompt_number": 48,
       "text": [
        "                  corr  p2tailed  p2tailed_adj p2tailed_adj_bool\n",
        "ILMN_1672034  0.095271  0.002602      0.007575              True\n",
        "ILMN_1789781  0.147800  0.000003      0.000011              True"
       ]
      }
     ],
     "prompt_number": 48
    },
    {
     "cell_type": "code",
     "collapsed": false,
     "input": [
      "len(probe2gene_f[probe2gene_f.SymbolReannotated.isin(genes.SymbolReannotated.unique())])"
     ],
     "language": "python",
     "metadata": {},
     "outputs": [
      {
       "metadata": {},
       "output_type": "pyout",
       "prompt_number": 49,
       "text": [
        "21204"
       ]
      }
     ],
     "prompt_number": 49
    },
    {
     "cell_type": "code",
     "collapsed": false,
     "input": [
      "cna = pd.read_csv(\"data/discovery_CNA_CBS.txt\", sep=\"\\t\")"
     ],
     "language": "python",
     "metadata": {},
     "outputs": [],
     "prompt_number": 78
    },
    {
     "cell_type": "code",
     "collapsed": false,
     "input": [
      "cna.head()"
     ],
     "language": "python",
     "metadata": {},
     "outputs": [
      {
       "html": [
        "<div style=\"max-height:1000px;max-width:1500px;overflow:auto;\">\n",
        "<table border=\"1\" class=\"dataframe\">\n",
        "  <thead>\n",
        "    <tr style=\"text-align: right;\">\n",
        "      <th></th>\n",
        "      <th>METABRIC_ID</th>\n",
        "      <th>chrom</th>\n",
        "      <th>loc.start</th>\n",
        "      <th>loc.end</th>\n",
        "      <th>num.mark</th>\n",
        "      <th>seg.mean</th>\n",
        "      <th>call</th>\n",
        "      <th>call2</th>\n",
        "    </tr>\n",
        "  </thead>\n",
        "  <tbody>\n",
        "    <tr>\n",
        "      <th>0</th>\n",
        "      <td> MB-0135</td>\n",
        "      <td> 1</td>\n",
        "      <td>    51599</td>\n",
        "      <td>  3070800</td>\n",
        "      <td>   725</td>\n",
        "      <td> 0.059265</td>\n",
        "      <td> 0</td>\n",
        "      <td> NEUT</td>\n",
        "    </tr>\n",
        "    <tr>\n",
        "      <th>1</th>\n",
        "      <td> MB-0135</td>\n",
        "      <td> 1</td>\n",
        "      <td>  3079347</td>\n",
        "      <td> 20956319</td>\n",
        "      <td> 11269</td>\n",
        "      <td>-0.363605</td>\n",
        "      <td>-1</td>\n",
        "      <td> HETD</td>\n",
        "    </tr>\n",
        "    <tr>\n",
        "      <th>2</th>\n",
        "      <td> MB-0135</td>\n",
        "      <td> 1</td>\n",
        "      <td> 20956825</td>\n",
        "      <td> 20958696</td>\n",
        "      <td>     2</td>\n",
        "      <td>-2.123863</td>\n",
        "      <td>-1</td>\n",
        "      <td> HOMD</td>\n",
        "    </tr>\n",
        "    <tr>\n",
        "      <th>3</th>\n",
        "      <td> MB-0135</td>\n",
        "      <td> 1</td>\n",
        "      <td> 20962780</td>\n",
        "      <td> 25465716</td>\n",
        "      <td>  2649</td>\n",
        "      <td>-0.363605</td>\n",
        "      <td>-1</td>\n",
        "      <td> HETD</td>\n",
        "    </tr>\n",
        "    <tr>\n",
        "      <th>4</th>\n",
        "      <td> MB-0135</td>\n",
        "      <td> 1</td>\n",
        "      <td> 25468469</td>\n",
        "      <td> 25534089</td>\n",
        "      <td>    30</td>\n",
        "      <td> 0.059265</td>\n",
        "      <td> 0</td>\n",
        "      <td> NEUT</td>\n",
        "    </tr>\n",
        "  </tbody>\n",
        "</table>\n",
        "</div>"
       ],
       "metadata": {},
       "output_type": "pyout",
       "prompt_number": 79,
       "text": [
        "  METABRIC_ID  chrom  loc.start   loc.end  num.mark  seg.mean  call call2\n",
        "0     MB-0135      1      51599   3070800       725  0.059265     0  NEUT\n",
        "1     MB-0135      1    3079347  20956319     11269 -0.363605    -1  HETD\n",
        "2     MB-0135      1   20956825  20958696         2 -2.123863    -1  HOMD\n",
        "3     MB-0135      1   20962780  25465716      2649 -0.363605    -1  HETD\n",
        "4     MB-0135      1   25468469  25534089        30  0.059265     0  NEUT"
       ]
      }
     ],
     "prompt_number": 79
    },
    {
     "cell_type": "heading",
     "level": 2,
     "metadata": {},
     "source": [
      "Remove probes with little variability"
     ]
    },
    {
     "cell_type": "code",
     "collapsed": false,
     "input": [
      "stds = exp.apply(lambda x: x.std(), axis=1)\n",
      "stds.sort(ascending=False)"
     ],
     "language": "python",
     "metadata": {},
     "outputs": [],
     "prompt_number": 164
    },
    {
     "cell_type": "code",
     "collapsed": false,
     "input": [
      "len(stds)"
     ],
     "language": "python",
     "metadata": {},
     "outputs": [
      {
       "metadata": {},
       "output_type": "pyout",
       "prompt_number": 165,
       "text": [
        "48803"
       ]
      }
     ],
     "prompt_number": 165
    },
    {
     "cell_type": "code",
     "collapsed": false,
     "input": [
      "(stds > 0.5).sum()"
     ],
     "language": "python",
     "metadata": {},
     "outputs": [
      {
       "metadata": {},
       "output_type": "pyout",
       "prompt_number": 167,
       "text": [
        "6256"
       ]
      }
     ],
     "prompt_number": 167
    },
    {
     "cell_type": "code",
     "collapsed": false,
     "input": [
      "stds.head()"
     ],
     "language": "python",
     "metadata": {},
     "outputs": [
      {
       "metadata": {},
       "output_type": "pyout",
       "prompt_number": 168,
       "text": [
        "ILMN_1723333    3.068049\n",
        "ILMN_1810978    2.903203\n",
        "ILMN_1714536    2.892984\n",
        "ILMN_2092077    2.866651\n",
        "ILMN_1722489    2.697150\n",
        "dtype: float64"
       ]
      }
     ],
     "prompt_number": 168
    },
    {
     "cell_type": "code",
     "collapsed": false,
     "input": [
      "stds.tail()"
     ],
     "language": "python",
     "metadata": {},
     "outputs": [
      {
       "metadata": {},
       "output_type": "pyout",
       "prompt_number": 169,
       "text": [
        "ILMN_1898684    0.103509\n",
        "ILMN_1729929    0.102588\n",
        "ILMN_1719086    0.102349\n",
        "ILMN_1915876    0.102298\n",
        "ILMN_1900544    0.101715\n",
        "dtype: float64"
       ]
      }
     ],
     "prompt_number": 169
    },
    {
     "cell_type": "code",
     "collapsed": false,
     "input": [
      "#probes_var = stds.index[:int(0.3*len(stds))]\n",
      "probes_var = stds.index[stds > 0.4]"
     ],
     "language": "python",
     "metadata": {},
     "outputs": [],
     "prompt_number": 205
    },
    {
     "cell_type": "code",
     "collapsed": false,
     "input": [
      "sample_intersect = pd.Index(sorted(list(set(cna_seg_mean_per_sample.columns).intersection(set(exp.columns)))))\n",
      "probe_intersect = pd.Index(sorted(list(set(cna_seg_mean_per_sample.index).intersection(set(exp.index)).intersection(set(probes_var)))))\n",
      "exp_i = exp.ix[probe_intersect, sample_intersect]\n",
      "cna_seg_mean_per_sample_i = cna_seg_mean_per_sample.ix[probe_intersect, sample_intersect]"
     ],
     "language": "python",
     "metadata": {},
     "outputs": [],
     "prompt_number": 206
    },
    {
     "cell_type": "code",
     "collapsed": false,
     "input": [
      "cna_vs_exp = pd.DataFrame(index=cna_seg_mean_per_sample_i.index)\n",
      "cna_vs_exp = cna_seg_mean_per_sample_i.apply(lambda x: scipy.stats.spearmanr(x, exp_i.ix[x.name, :]), axis=1)\n",
      "cna_vs_exp = pd.DataFrame({\"corr\":cna_vs_exp.apply(lambda x: float(x[0])),\"p2tailed\":cna_vs_exp.apply(lambda x: float(x[1]))})"
     ],
     "language": "python",
     "metadata": {},
     "outputs": []
    },
    {
     "cell_type": "code",
     "collapsed": false,
     "input": [
      "cna_vs_exp.head()"
     ],
     "language": "python",
     "metadata": {},
     "outputs": [
      {
       "html": [
        "<div style=\"max-height:1000px;max-width:1500px;overflow:auto;\">\n",
        "<table border=\"1\" class=\"dataframe\">\n",
        "  <thead>\n",
        "    <tr style=\"text-align: right;\">\n",
        "      <th></th>\n",
        "      <th>corr</th>\n",
        "      <th>p2tailed</th>\n",
        "    </tr>\n",
        "  </thead>\n",
        "  <tbody>\n",
        "    <tr>\n",
        "      <th>ILMN_1343295</th>\n",
        "      <td> 0.292740</td>\n",
        "      <td> 3.752436e-21</td>\n",
        "    </tr>\n",
        "    <tr>\n",
        "      <th>ILMN_1651228</th>\n",
        "      <td> 0.180417</td>\n",
        "      <td> 9.653679e-09</td>\n",
        "    </tr>\n",
        "    <tr>\n",
        "      <th>ILMN_1651237</th>\n",
        "      <td>-0.142094</td>\n",
        "      <td> 6.671878e-06</td>\n",
        "    </tr>\n",
        "    <tr>\n",
        "      <th>ILMN_1651254</th>\n",
        "      <td> 0.038163</td>\n",
        "      <td> 2.286104e-01</td>\n",
        "    </tr>\n",
        "    <tr>\n",
        "      <th>ILMN_1651282</th>\n",
        "      <td> 0.010131</td>\n",
        "      <td> 7.493436e-01</td>\n",
        "    </tr>\n",
        "  </tbody>\n",
        "</table>\n",
        "</div>"
       ],
       "metadata": {},
       "output_type": "pyout",
       "prompt_number": 192,
       "text": [
        "                  corr      p2tailed\n",
        "ILMN_1343295  0.292740  3.752436e-21\n",
        "ILMN_1651228  0.180417  9.653679e-09\n",
        "ILMN_1651237 -0.142094  6.671878e-06\n",
        "ILMN_1651254  0.038163  2.286104e-01\n",
        "ILMN_1651282  0.010131  7.493436e-01"
       ]
      }
     ],
     "prompt_number": 192
    },
    {
     "cell_type": "code",
     "collapsed": false,
     "input": [
      "len(cna_vs_exp)"
     ],
     "language": "python",
     "metadata": {},
     "outputs": [
      {
       "metadata": {},
       "output_type": "pyout",
       "prompt_number": 193,
       "text": [
        "6175"
       ]
      }
     ],
     "prompt_number": 193
    },
    {
     "cell_type": "code",
     "collapsed": false,
     "input": [
      "cna_vs_exp[\"p2tailed_adj\"] = multipletests(cna_vs_exp.p2tailed, alpha=0.05, method=\"fdr_bh\")[1]\n",
      "cna_vs_exp[\"p2tailed_adj_bool\"] = multipletests(cna_vs_exp.p2tailed, alpha=0.05, method=\"fdr_bh\")[0]"
     ],
     "language": "python",
     "metadata": {},
     "outputs": [],
     "prompt_number": 194
    },
    {
     "cell_type": "code",
     "collapsed": false,
     "input": [
      "cna_vs_exp.head()"
     ],
     "language": "python",
     "metadata": {},
     "outputs": [
      {
       "html": [
        "<div style=\"max-height:1000px;max-width:1500px;overflow:auto;\">\n",
        "<table border=\"1\" class=\"dataframe\">\n",
        "  <thead>\n",
        "    <tr style=\"text-align: right;\">\n",
        "      <th></th>\n",
        "      <th>corr</th>\n",
        "      <th>p2tailed</th>\n",
        "      <th>p2tailed_adj</th>\n",
        "      <th>p2tailed_adj_bool</th>\n",
        "    </tr>\n",
        "  </thead>\n",
        "  <tbody>\n",
        "    <tr>\n",
        "      <th>ILMN_1343295</th>\n",
        "      <td> 0.292740</td>\n",
        "      <td> 3.752436e-21</td>\n",
        "      <td> 2.016649e-20</td>\n",
        "      <td>  True</td>\n",
        "    </tr>\n",
        "    <tr>\n",
        "      <th>ILMN_1651228</th>\n",
        "      <td> 0.180417</td>\n",
        "      <td> 9.653679e-09</td>\n",
        "      <td> 2.422246e-08</td>\n",
        "      <td>  True</td>\n",
        "    </tr>\n",
        "    <tr>\n",
        "      <th>ILMN_1651237</th>\n",
        "      <td>-0.142094</td>\n",
        "      <td> 6.671878e-06</td>\n",
        "      <td> 1.349897e-05</td>\n",
        "      <td>  True</td>\n",
        "    </tr>\n",
        "    <tr>\n",
        "      <th>ILMN_1651254</th>\n",
        "      <td> 0.038163</td>\n",
        "      <td> 2.286104e-01</td>\n",
        "      <td> 2.733145e-01</td>\n",
        "      <td> False</td>\n",
        "    </tr>\n",
        "    <tr>\n",
        "      <th>ILMN_1651282</th>\n",
        "      <td> 0.010131</td>\n",
        "      <td> 7.493436e-01</td>\n",
        "      <td> 7.840048e-01</td>\n",
        "      <td> False</td>\n",
        "    </tr>\n",
        "  </tbody>\n",
        "</table>\n",
        "</div>"
       ],
       "metadata": {},
       "output_type": "pyout",
       "prompt_number": 195,
       "text": [
        "                  corr      p2tailed  p2tailed_adj p2tailed_adj_bool\n",
        "ILMN_1343295  0.292740  3.752436e-21  2.016649e-20              True\n",
        "ILMN_1651228  0.180417  9.653679e-09  2.422246e-08              True\n",
        "ILMN_1651237 -0.142094  6.671878e-06  1.349897e-05              True\n",
        "ILMN_1651254  0.038163  2.286104e-01  2.733145e-01             False\n",
        "ILMN_1651282  0.010131  7.493436e-01  7.840048e-01             False"
       ]
      }
     ],
     "prompt_number": 195
    },
    {
     "cell_type": "code",
     "collapsed": false,
     "input": [
      "cna_vs_exp.p2tailed_adj_bool.sum()"
     ],
     "language": "python",
     "metadata": {},
     "outputs": [
      {
       "metadata": {},
       "output_type": "pyout",
       "prompt_number": 196,
       "text": [
        "4477"
       ]
      }
     ],
     "prompt_number": 196
    },
    {
     "cell_type": "code",
     "collapsed": false,
     "input": [
      "(cna_vs_exp.p2tailed < 0.05).sum()"
     ],
     "language": "python",
     "metadata": {},
     "outputs": [
      {
       "metadata": {},
       "output_type": "pyout",
       "prompt_number": 197,
       "text": [
        "4573"
       ]
      }
     ],
     "prompt_number": 197
    },
    {
     "cell_type": "code",
     "collapsed": false,
     "input": [
      "cna_vs_exp[\"gene\"] = probe2gene_f.ix[cna_vs_exp.index, [\"SymbolReannotated\"]]\n",
      "# correlation positive, R squared bigger than 0.4 and adj p value < alpha\n",
      "cna_vs_exp[\"all_criteria_met\"] = ((cna_vs_exp[\"corr\"] > 0) & (cna_vs_exp[\"corr\"] ** cna_vs_exp[\"corr\"] > 0.4) & cna_vs_exp.p2tailed_adj_bool)"
     ],
     "language": "python",
     "metadata": {},
     "outputs": [],
     "prompt_number": 198
    },
    {
     "cell_type": "code",
     "collapsed": false,
     "input": [
      "cna_vs_exp.groupby(\"gene\").all_criteria_met.apply(np.any).sum()"
     ],
     "language": "python",
     "metadata": {},
     "outputs": [
      {
       "metadata": {},
       "output_type": "pyout",
       "prompt_number": 201,
       "text": [
        "3484"
       ]
      }
     ],
     "prompt_number": 201
    },
    {
     "cell_type": "code",
     "collapsed": false,
     "input": [
      "genes = cna_vs_exp.groupby(\"gene\").all_criteria_met.apply(np.any)"
     ],
     "language": "python",
     "metadata": {},
     "outputs": [],
     "prompt_number": 203
    },
    {
     "cell_type": "code",
     "collapsed": false,
     "input": [
      "with open(\"output/metabric_copy_number_regulated_genes_std0.5_spearmanrsquare0.4_fdrbh_adjp_lt0.05.tsv\", \"w\") as f:\n",
      "    for g in genes.index:\n",
      "        f.write(\"{}\\n\".format(g))"
     ],
     "language": "python",
     "metadata": {},
     "outputs": [],
     "prompt_number": 204
    },
    {
     "cell_type": "heading",
     "level": 2,
     "metadata": {},
     "source": [
      "Per subtype"
     ]
    },
    {
     "cell_type": "markdown",
     "metadata": {},
     "source": [
      "Clinical subtypes\n",
      "```\n",
      "ER-positive: ER_IHC_status==\"pos\"\n",
      "ER-negative: ER_IHC_status==\"neg\"\n",
      "HER2-positive: (HER2_IHC_status==3)||(HER2_IHC_status==2&&HER2_SNP_state==\"GAIN\")\n",
      "Triple-negative: ER.Expr==\"-\"&&PR.Exprs==\"-\"&&Her2.Expr==\"-\"\n",
      "```\n",
      "\n",
      "The PAM50 subtypes should be based on Pam50Subtype."
     ]
    },
    {
     "cell_type": "code",
     "collapsed": false,
     "input": [
      "s2 = pd.read_csv(\"data/table_S2_revised.txt\", sep=\"\\t\").set_index(\"METABRIC_ID\")"
     ],
     "language": "python",
     "metadata": {},
     "outputs": [],
     "prompt_number": 131
    },
    {
     "cell_type": "code",
     "collapsed": false,
     "input": [
      "s2.head()"
     ],
     "language": "python",
     "metadata": {},
     "outputs": [
      {
       "html": [
        "<div style=\"max-height:1000px;max-width:1500px;overflow:auto;\">\n",
        "<table border=\"1\" class=\"dataframe\">\n",
        "  <thead>\n",
        "    <tr style=\"text-align: right;\">\n",
        "      <th></th>\n",
        "      <th>age_at_diagnosis</th>\n",
        "      <th>last_follow_up_status</th>\n",
        "      <th>menopausal_status_inferred</th>\n",
        "      <th>group</th>\n",
        "      <th>grade</th>\n",
        "      <th>size</th>\n",
        "      <th>stage</th>\n",
        "      <th>lymph_nodes_positive</th>\n",
        "      <th>lymph_nodes_removed</th>\n",
        "      <th>NPI</th>\n",
        "      <th>...</th>\n",
        "      <th>P53_mutation_details</th>\n",
        "      <th>Pam50Subtype</th>\n",
        "      <th>IntClustMemb</th>\n",
        "      <th>Treatment</th>\n",
        "      <th>Site</th>\n",
        "      <th>Genefu</th>\n",
        "      <th>ER.Expr</th>\n",
        "      <th>Her2.Expr</th>\n",
        "      <th>PR.Expr</th>\n",
        "      <th>T</th>\n",
        "    </tr>\n",
        "    <tr>\n",
        "      <th>METABRIC_ID</th>\n",
        "      <th></th>\n",
        "      <th></th>\n",
        "      <th></th>\n",
        "      <th></th>\n",
        "      <th></th>\n",
        "      <th></th>\n",
        "      <th></th>\n",
        "      <th></th>\n",
        "      <th></th>\n",
        "      <th></th>\n",
        "      <th></th>\n",
        "      <th></th>\n",
        "      <th></th>\n",
        "      <th></th>\n",
        "      <th></th>\n",
        "      <th></th>\n",
        "      <th></th>\n",
        "      <th></th>\n",
        "      <th></th>\n",
        "      <th></th>\n",
        "      <th></th>\n",
        "    </tr>\n",
        "  </thead>\n",
        "  <tbody>\n",
        "    <tr>\n",
        "      <th>MB-0002</th>\n",
        "      <td> 43.19</td>\n",
        "      <td>      a</td>\n",
        "      <td>  pre</td>\n",
        "      <td> 4</td>\n",
        "      <td> 3</td>\n",
        "      <td> 10</td>\n",
        "      <td> 1</td>\n",
        "      <td> 0</td>\n",
        "      <td> 25</td>\n",
        "      <td> 4.02</td>\n",
        "      <td>...</td>\n",
        "      <td> MB-AD-0002+ex5,6+chr17:7519122+12521A&gt;AC+178H&gt;...</td>\n",
        "      <td> LumA</td>\n",
        "      <td> 4</td>\n",
        "      <td>    HT/RT</td>\n",
        "      <td> 1</td>\n",
        "      <td> ER+/HER2- High Prolif</td>\n",
        "      <td> +</td>\n",
        "      <td> -</td>\n",
        "      <td> +</td>\n",
        "      <td> 1484</td>\n",
        "    </tr>\n",
        "    <tr>\n",
        "      <th>MB-0008</th>\n",
        "      <td> 76.97</td>\n",
        "      <td> d-d.s.</td>\n",
        "      <td> post</td>\n",
        "      <td> 4</td>\n",
        "      <td> 3</td>\n",
        "      <td> 40</td>\n",
        "      <td> 2</td>\n",
        "      <td> 8</td>\n",
        "      <td>  8</td>\n",
        "      <td> 6.08</td>\n",
        "      <td>...</td>\n",
        "      <td>                                               NaN</td>\n",
        "      <td> LumB</td>\n",
        "      <td> 9</td>\n",
        "      <td> CT/HT/RT</td>\n",
        "      <td> 1</td>\n",
        "      <td> ER+/HER2- High Prolif</td>\n",
        "      <td> +</td>\n",
        "      <td> -</td>\n",
        "      <td> +</td>\n",
        "      <td> 1241</td>\n",
        "    </tr>\n",
        "    <tr>\n",
        "      <th>MB-0010</th>\n",
        "      <td> 78.77</td>\n",
        "      <td> d-d.s.</td>\n",
        "      <td> post</td>\n",
        "      <td> 4</td>\n",
        "      <td> 3</td>\n",
        "      <td> 31</td>\n",
        "      <td> 4</td>\n",
        "      <td> 0</td>\n",
        "      <td> 14</td>\n",
        "      <td> 4.06</td>\n",
        "      <td>...</td>\n",
        "      <td>                                               NaN</td>\n",
        "      <td> LumB</td>\n",
        "      <td> 7</td>\n",
        "      <td>    HT/RT</td>\n",
        "      <td> 1</td>\n",
        "      <td> ER+/HER2- High Prolif</td>\n",
        "      <td> +</td>\n",
        "      <td> -</td>\n",
        "      <td> +</td>\n",
        "      <td>  234</td>\n",
        "    </tr>\n",
        "    <tr>\n",
        "      <th>MB-0035</th>\n",
        "      <td> 84.22</td>\n",
        "      <td>      d</td>\n",
        "      <td> post</td>\n",
        "      <td> 4</td>\n",
        "      <td> 2</td>\n",
        "      <td> 28</td>\n",
        "      <td> 2</td>\n",
        "      <td> 0</td>\n",
        "      <td> 16</td>\n",
        "      <td> 3.06</td>\n",
        "      <td>...</td>\n",
        "      <td>                                               NaN</td>\n",
        "      <td> Her2</td>\n",
        "      <td> 3</td>\n",
        "      <td>     NONE</td>\n",
        "      <td> 1</td>\n",
        "      <td> ER+/HER2- High Prolif</td>\n",
        "      <td> +</td>\n",
        "      <td> -</td>\n",
        "      <td> -</td>\n",
        "      <td> 1088</td>\n",
        "    </tr>\n",
        "    <tr>\n",
        "      <th>MB-0036</th>\n",
        "      <td> 85.49</td>\n",
        "      <td>      a</td>\n",
        "      <td> post</td>\n",
        "      <td> 4</td>\n",
        "      <td> 2</td>\n",
        "      <td> 22</td>\n",
        "      <td> 4</td>\n",
        "      <td> 0</td>\n",
        "      <td> 23</td>\n",
        "      <td> 3.04</td>\n",
        "      <td>...</td>\n",
        "      <td>                                               NaN</td>\n",
        "      <td> LumA</td>\n",
        "      <td> 3</td>\n",
        "      <td>    HT/RT</td>\n",
        "      <td> 1</td>\n",
        "      <td>  ER+/HER2- Low Prolif</td>\n",
        "      <td> +</td>\n",
        "      <td> -</td>\n",
        "      <td> +</td>\n",
        "      <td> 2314</td>\n",
        "    </tr>\n",
        "  </tbody>\n",
        "</table>\n",
        "<p>5 rows \u00d7 27 columns</p>\n",
        "</div>"
       ],
       "metadata": {},
       "output_type": "pyout",
       "prompt_number": 132,
       "text": [
        "             age_at_diagnosis last_follow_up_status  \\\n",
        "METABRIC_ID                                           \n",
        "MB-0002                 43.19                     a   \n",
        "MB-0008                 76.97                d-d.s.   \n",
        "MB-0010                 78.77                d-d.s.   \n",
        "MB-0035                 84.22                     d   \n",
        "MB-0036                 85.49                     a   \n",
        "\n",
        "            menopausal_status_inferred  group  grade  size  stage  \\\n",
        "METABRIC_ID                                                         \n",
        "MB-0002                            pre      4      3    10      1   \n",
        "MB-0008                           post      4      3    40      2   \n",
        "MB-0010                           post      4      3    31      4   \n",
        "MB-0035                           post      4      2    28      2   \n",
        "MB-0036                           post      4      2    22      4   \n",
        "\n",
        "             lymph_nodes_positive lymph_nodes_removed   NPI  ...   \\\n",
        "METABRIC_ID                                                  ...    \n",
        "MB-0002                         0                  25  4.02  ...    \n",
        "MB-0008                         8                   8  6.08  ...    \n",
        "MB-0010                         0                  14  4.06  ...    \n",
        "MB-0035                         0                  16  3.06  ...    \n",
        "MB-0036                         0                  23  3.04  ...    \n",
        "\n",
        "                                          P53_mutation_details Pam50Subtype  \\\n",
        "METABRIC_ID                                                                   \n",
        "MB-0002      MB-AD-0002+ex5,6+chr17:7519122+12521A>AC+178H>...         LumA   \n",
        "MB-0008                                                    NaN         LumB   \n",
        "MB-0010                                                    NaN         LumB   \n",
        "MB-0035                                                    NaN         Her2   \n",
        "MB-0036                                                    NaN         LumA   \n",
        "\n",
        "            IntClustMemb Treatment Site                 Genefu ER.Expr  \\\n",
        "METABRIC_ID                                                              \n",
        "MB-0002                4     HT/RT    1  ER+/HER2- High Prolif       +   \n",
        "MB-0008                9  CT/HT/RT    1  ER+/HER2- High Prolif       +   \n",
        "MB-0010                7     HT/RT    1  ER+/HER2- High Prolif       +   \n",
        "MB-0035                3      NONE    1  ER+/HER2- High Prolif       +   \n",
        "MB-0036                3     HT/RT    1   ER+/HER2- Low Prolif       +   \n",
        "\n",
        "            Her2.Expr PR.Expr     T  \n",
        "METABRIC_ID                          \n",
        "MB-0002             -       +  1484  \n",
        "MB-0008             -       +  1241  \n",
        "MB-0010             -       +   234  \n",
        "MB-0035             -       -  1088  \n",
        "MB-0036             -       +  2314  \n",
        "\n",
        "[5 rows x 27 columns]"
       ]
      }
     ],
     "prompt_number": 132
    },
    {
     "cell_type": "code",
     "collapsed": false,
     "input": [
      "subtypes = {\n",
      "    \"ER_positive\": s2[s2.ER_IHC_status == \"pos\"].index,\n",
      "    \"ER_negative\": s2[s2.ER_IHC_status == \"neg\"].index,\n",
      "    \"HER2_postitive\": s2[(s2.HER2_IHC_status == \"3\") | ((s2.HER2_IHC_status == \"2\") & (s2.HER2_SNP6_state == \"GAIN\"))].index,\n",
      "    \"Triple_negative\": s2[(s2[\"ER.Expr\"] == \"-\") & (s2[\"PR.Expr\"] == \"-\") & (s2[\"Her2.Expr\"] == \"-\")].index,\n",
      "}"
     ],
     "language": "python",
     "metadata": {},
     "outputs": [],
     "prompt_number": 151
    },
    {
     "cell_type": "code",
     "collapsed": false,
     "input": [
      "for s in subtypes:\n",
      "    print s, len(s)"
     ],
     "language": "python",
     "metadata": {},
     "outputs": [
      {
       "output_type": "stream",
       "stream": "stdout",
       "text": [
        "Triple_negative 15\n",
        "ER_positive 11\n",
        "ER_negative 11\n",
        "HER2_postitive 14\n"
       ]
      }
     ],
     "prompt_number": 152
    },
    {
     "cell_type": "code",
     "collapsed": false,
     "input": [
      "len(set(exp.columns).intersection(set(cna_seg_mean_per_sample.columns)))"
     ],
     "language": "python",
     "metadata": {},
     "outputs": [
      {
       "metadata": {},
       "output_type": "pyout",
       "prompt_number": 160,
       "text": [
        "997"
       ]
      }
     ],
     "prompt_number": 160
    },
    {
     "cell_type": "code",
     "collapsed": false,
     "input": [],
     "language": "python",
     "metadata": {},
     "outputs": []
    }
   ],
   "metadata": {}
  }
 ]
}