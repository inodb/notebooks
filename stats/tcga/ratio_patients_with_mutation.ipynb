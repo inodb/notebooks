{
 "metadata": {
  "name": "",
  "signature": "sha256:de09a9d84926ebde7e5b7d95c9ad6d9bf8fe5fff833923aa3fe85543bdc973e6"
 },
 "nbformat": 3,
 "nbformat_minor": 0,
 "worksheets": [
  {
   "cells": [
    {
     "cell_type": "code",
     "collapsed": false,
     "input": [
      "import pandas as pd\n",
      "import numpy as np"
     ],
     "language": "python",
     "metadata": {},
     "outputs": [],
     "prompt_number": 63
    },
    {
     "cell_type": "heading",
     "level": 2,
     "metadata": {},
     "source": [
      "Endometrial cancer"
     ]
    },
    {
     "cell_type": "code",
     "collapsed": false,
     "input": [
      "maf = pd.read_csv(\"data/UCEC_somatic.maf\", sep=\"\\t\", engine='python')"
     ],
     "language": "python",
     "metadata": {},
     "outputs": [],
     "prompt_number": 64
    },
    {
     "cell_type": "code",
     "collapsed": false,
     "input": [
      "maf.Variant_Classification.unique()"
     ],
     "language": "python",
     "metadata": {},
     "outputs": [
      {
       "metadata": {},
       "output_type": "pyout",
       "prompt_number": 65,
       "text": [
        "array(['Silent', 'Missense_Mutation', 'Nonsense_Mutation', 'RNA',\n",
        "       'In_Frame_Del', 'Splice_Site', 'Frame_Shift_Ins', 'Frame_Shift_Del',\n",
        "       'Nonstop_Mutation', 'In_Frame_Ins'], dtype=object)"
       ]
      }
     ],
     "prompt_number": 65
    },
    {
     "cell_type": "markdown",
     "metadata": {},
     "source": [
      "Only interested in Non-Silent Mutations so filter RNA and Silent."
     ]
    },
    {
     "cell_type": "code",
     "collapsed": false,
     "input": [
      "mafns = maf[~maf.Variant_Classification.isin([\"RNA\", \"Silent\"])]"
     ],
     "language": "python",
     "metadata": {},
     "outputs": [],
     "prompt_number": 66
    },
    {
     "cell_type": "code",
     "collapsed": false,
     "input": [
      "clin = pd.read_csv(\"data/datafile.S1.1.KeyClinicalData.tsv\", sep=\"\\t\")"
     ],
     "language": "python",
     "metadata": {},
     "outputs": [],
     "prompt_number": 67
    },
    {
     "cell_type": "code",
     "collapsed": false,
     "input": [
      "len(clin)"
     ],
     "language": "python",
     "metadata": {},
     "outputs": [
      {
       "metadata": {},
       "output_type": "pyout",
       "prompt_number": 68,
       "text": [
        "373"
       ]
      }
     ],
     "prompt_number": 68
    },
    {
     "cell_type": "code",
     "collapsed": false,
     "input": [
      "clin.msi_status_7_marker_call.unique()"
     ],
     "language": "python",
     "metadata": {},
     "outputs": [
      {
       "metadata": {},
       "output_type": "pyout",
       "prompt_number": 69,
       "text": [
        "array(['MSI-H', 'MSI-L', 'MSS', 'Indeterminant'], dtype=object)"
       ]
      }
     ],
     "prompt_number": 69
    },
    {
     "cell_type": "code",
     "collapsed": false,
     "input": [
      "clin.IntegrativeCluster.unique()"
     ],
     "language": "python",
     "metadata": {},
     "outputs": [
      {
       "metadata": {},
       "output_type": "pyout",
       "prompt_number": 70,
       "text": [
        "array(['Notassigned', 'CN high', 'MSI', 'CN low', 'POLE'], dtype=object)"
       ]
      }
     ],
     "prompt_number": 70
    },
    {
     "cell_type": "code",
     "collapsed": false,
     "input": [
      "subtypes = {\n",
      "    \"All\": clin.bcr_patient_barcode,\n",
      "    \"Endometrioid\": clin.bcr_patient_barcode[clin.histology == \"Endometrioid\"],\n",
      "    \"Serous\": clin.bcr_patient_barcode[clin.histology == \"Serous\"],\n",
      "    \"Endometrioid_MSI-H\": clin.bcr_patient_barcode[(clin.histology == \"Endometrioid\") & (clin.msi_status_7_marker_call == \"MSI-H\")],\n",
      "    \"Endometrioid_MSI-L\": clin.bcr_patient_barcode[(clin.histology == \"Endometrioid\") & (clin.msi_status_7_marker_call == \"MSI-L\")],\n",
      "    \"Endometrioid_MSS\": clin.bcr_patient_barcode[(clin.histology == \"Endometrioid\") & (clin.msi_status_7_marker_call == \"MSS\")],\n",
      "    \"POLE\": clin.bcr_patient_barcode[clin.IntegrativeCluster == \"CN high\"],\n",
      "    \"MSI\": clin.bcr_patient_barcode[clin.IntegrativeCluster == \"MSI\"],\n",
      "    \"CN low\": clin.bcr_patient_barcode[clin.IntegrativeCluster == \"CN low\"],\n",
      "    \"CN high\": clin.bcr_patient_barcode[clin.IntegrativeCluster == \"CN high\"],\n",
      "}"
     ],
     "language": "python",
     "metadata": {},
     "outputs": [],
     "prompt_number": 71
    },
    {
     "cell_type": "code",
     "collapsed": false,
     "input": [
      "for k in subtypes:\n",
      "    print k, len(subtypes[k])"
     ],
     "language": "python",
     "metadata": {},
     "outputs": [
      {
       "output_type": "stream",
       "stream": "stdout",
       "text": [
        "CN high 60\n",
        "All 373\n",
        "Serous 53\n",
        "Endometrioid 307\n",
        "MSI 65\n",
        "Endometrioid_MSI-H 123\n",
        "Endometrioid_MSS 171\n",
        "Endometrioid_MSI-L 12\n",
        "POLE 60\n",
        "CN low 90\n"
       ]
      }
     ],
     "prompt_number": 72
    },
    {
     "cell_type": "code",
     "collapsed": false,
     "input": [
      "def ratio_patients_with_mutation_in_gene(x, subtype_patients):\n",
      "    return np.in1d(x.apply(lambda y: y[:12]).unique(), subtype_patients).sum() / float(len(subtype_patients))"
     ],
     "language": "python",
     "metadata": {},
     "outputs": [],
     "prompt_number": 73
    },
    {
     "cell_type": "code",
     "collapsed": false,
     "input": [
      "ratio_patients_with_mutation_in_gene(mafns[mafns.Hugo_Symbol == \"SAMD11\"].Tumor_Sample_Barcode, subtypes[\"Endometrioid\"])"
     ],
     "language": "python",
     "metadata": {},
     "outputs": [
      {
       "metadata": {},
       "output_type": "pyout",
       "prompt_number": 74,
       "text": [
        "0.0097719869706840382"
       ]
      }
     ],
     "prompt_number": 74
    },
    {
     "cell_type": "code",
     "collapsed": false,
     "input": [
      "mafns.groupby(\"Hugo_Symbol\").Tumor_Sample_Barcode.apply(ratio_patients_with_mutation_in_gene, subtypes[\"Endometrioid\"]).head()"
     ],
     "language": "python",
     "metadata": {},
     "outputs": [
      {
       "metadata": {},
       "output_type": "pyout",
       "prompt_number": 75,
       "text": [
        "Hugo_Symbol\n",
        "A1BG           0.009772\n",
        "A1CF           0.016287\n",
        "A2M            0.039088\n",
        "A2ML1          0.048860\n",
        "A4GALT         0.006515\n",
        "Name: Tumor_Sample_Barcode, dtype: float64"
       ]
      }
     ],
     "prompt_number": 75
    },
    {
     "cell_type": "code",
     "collapsed": false,
     "input": [
      "%%time\n",
      "ratio_mutations = pd.DataFrame()\n",
      "for k in [\"All\", \"Endometrioid\", \"Serous\", \"Endometrioid_MSI-H\", \"Endometrioid_MSI-L\", \"Endometrioid_MSS\",\n",
      "          \"POLE\", \"MSI\", \"CN low\", \"CN high\"]:\n",
      "    ratio_mutations[k] = mafns.groupby(\"Hugo_Symbol\").Tumor_Sample_Barcode.apply(ratio_patients_with_mutation_in_gene, subtypes[k])"
     ],
     "language": "python",
     "metadata": {},
     "outputs": [
      {
       "output_type": "stream",
       "stream": "stdout",
       "text": [
        "CPU times: user 1min 13s, sys: 157 ms, total: 1min 13s\n",
        "Wall time: 1min 14s\n"
       ]
      }
     ],
     "prompt_number": 77
    },
    {
     "cell_type": "code",
     "collapsed": false,
     "input": [
      "ratio_mutations.head()"
     ],
     "language": "python",
     "metadata": {},
     "outputs": [
      {
       "html": [
        "<div style=\"max-height:1000px;max-width:1500px;overflow:auto;\">\n",
        "<table border=\"1\" class=\"dataframe\">\n",
        "  <thead>\n",
        "    <tr style=\"text-align: right;\">\n",
        "      <th></th>\n",
        "      <th>All</th>\n",
        "      <th>Endometrioid</th>\n",
        "      <th>Serous</th>\n",
        "      <th>Endometrioid_MSI-H</th>\n",
        "      <th>Endometrioid_MSI-L</th>\n",
        "      <th>Endometrioid_MSS</th>\n",
        "      <th>POLE</th>\n",
        "      <th>MSI</th>\n",
        "      <th>CN low</th>\n",
        "      <th>CN high</th>\n",
        "    </tr>\n",
        "    <tr>\n",
        "      <th>Hugo_Symbol</th>\n",
        "      <th></th>\n",
        "      <th></th>\n",
        "      <th></th>\n",
        "      <th></th>\n",
        "      <th></th>\n",
        "      <th></th>\n",
        "      <th></th>\n",
        "      <th></th>\n",
        "      <th></th>\n",
        "      <th></th>\n",
        "    </tr>\n",
        "  </thead>\n",
        "  <tbody>\n",
        "    <tr>\n",
        "      <th>A1BG</th>\n",
        "      <td> 0.008043</td>\n",
        "      <td> 0.009772</td>\n",
        "      <td> 0</td>\n",
        "      <td> 0.008130</td>\n",
        "      <td> 0.083333</td>\n",
        "      <td> 0.005848</td>\n",
        "      <td> 0</td>\n",
        "      <td> 0.000000</td>\n",
        "      <td> 0</td>\n",
        "      <td> 0</td>\n",
        "    </tr>\n",
        "    <tr>\n",
        "      <th>A1CF</th>\n",
        "      <td> 0.013405</td>\n",
        "      <td> 0.016287</td>\n",
        "      <td> 0</td>\n",
        "      <td> 0.008130</td>\n",
        "      <td> 0.083333</td>\n",
        "      <td> 0.017544</td>\n",
        "      <td> 0</td>\n",
        "      <td> 0.000000</td>\n",
        "      <td> 0</td>\n",
        "      <td> 0</td>\n",
        "    </tr>\n",
        "    <tr>\n",
        "      <th>A2M</th>\n",
        "      <td> 0.032172</td>\n",
        "      <td> 0.039088</td>\n",
        "      <td> 0</td>\n",
        "      <td> 0.032520</td>\n",
        "      <td> 0.083333</td>\n",
        "      <td> 0.040936</td>\n",
        "      <td> 0</td>\n",
        "      <td> 0.030769</td>\n",
        "      <td> 0</td>\n",
        "      <td> 0</td>\n",
        "    </tr>\n",
        "    <tr>\n",
        "      <th>A2ML1</th>\n",
        "      <td> 0.040214</td>\n",
        "      <td> 0.048860</td>\n",
        "      <td> 0</td>\n",
        "      <td> 0.056911</td>\n",
        "      <td> 0.083333</td>\n",
        "      <td> 0.040936</td>\n",
        "      <td> 0</td>\n",
        "      <td> 0.076923</td>\n",
        "      <td> 0</td>\n",
        "      <td> 0</td>\n",
        "    </tr>\n",
        "    <tr>\n",
        "      <th>A4GALT</th>\n",
        "      <td> 0.005362</td>\n",
        "      <td> 0.006515</td>\n",
        "      <td> 0</td>\n",
        "      <td> 0.000000</td>\n",
        "      <td> 0.000000</td>\n",
        "      <td> 0.011696</td>\n",
        "      <td> 0</td>\n",
        "      <td> 0.000000</td>\n",
        "      <td> 0</td>\n",
        "      <td> 0</td>\n",
        "    </tr>\n",
        "  </tbody>\n",
        "</table>\n",
        "</div>"
       ],
       "metadata": {},
       "output_type": "pyout",
       "prompt_number": 78,
       "text": [
        "                  All  Endometrioid  Serous  Endometrioid_MSI-H  \\\n",
        "Hugo_Symbol                                                       \n",
        "A1BG         0.008043      0.009772       0            0.008130   \n",
        "A1CF         0.013405      0.016287       0            0.008130   \n",
        "A2M          0.032172      0.039088       0            0.032520   \n",
        "A2ML1        0.040214      0.048860       0            0.056911   \n",
        "A4GALT       0.005362      0.006515       0            0.000000   \n",
        "\n",
        "             Endometrioid_MSI-L  Endometrioid_MSS  POLE       MSI  CN low  \\\n",
        "Hugo_Symbol                                                                 \n",
        "A1BG                   0.083333          0.005848     0  0.000000       0   \n",
        "A1CF                   0.083333          0.017544     0  0.000000       0   \n",
        "A2M                    0.083333          0.040936     0  0.030769       0   \n",
        "A2ML1                  0.083333          0.040936     0  0.076923       0   \n",
        "A4GALT                 0.000000          0.011696     0  0.000000       0   \n",
        "\n",
        "             CN high  \n",
        "Hugo_Symbol           \n",
        "A1BG               0  \n",
        "A1CF               0  \n",
        "A2M                0  \n",
        "A2ML1              0  \n",
        "A4GALT             0  "
       ]
      }
     ],
     "prompt_number": 78
    },
    {
     "cell_type": "code",
     "collapsed": false,
     "input": [
      "ratio_mutations.to_csv(\"output/endometrial/ratio_patients_with_mutation.tsv\", sep=\"\\t\")"
     ],
     "language": "python",
     "metadata": {},
     "outputs": [],
     "prompt_number": 79
    },
    {
     "cell_type": "heading",
     "level": 2,
     "metadata": {},
     "source": [
      "Breast cancer"
     ]
    },
    {
     "cell_type": "code",
     "collapsed": false,
     "input": [
      "maf = pd.read_csv(\"genome.wustl.edu_BRCA.IlluminaGA_DNASeq.Level_2.3.2.0.somatic.FREEZEONLY.maf\", sep=\"\\t\", engine='python')\n",
      "mafns = maf[~maf.Variant_Classification.isin([\"RNA\", \"Silent\"])]"
     ],
     "language": "python",
     "metadata": {},
     "outputs": [],
     "prompt_number": 80
    },
    {
     "cell_type": "code",
     "collapsed": false,
     "input": [
      "clin = pd.read_csv(\"MyTCGA_table.txt\", sep=\"\\t\")\n",
      "print len(clin)"
     ],
     "language": "python",
     "metadata": {},
     "outputs": [
      {
       "output_type": "stream",
       "stream": "stdout",
       "text": [
        "463\n"
       ]
      }
     ],
     "prompt_number": 81
    },
    {
     "cell_type": "code",
     "collapsed": false,
     "input": [
      "clin.PAM50.unique()"
     ],
     "language": "python",
     "metadata": {},
     "outputs": [
      {
       "metadata": {},
       "output_type": "pyout",
       "prompt_number": 82,
       "text": [
        "array(['LumA', 'Basal', 'LumB', 'Her2', 'Normal'], dtype=object)"
       ]
      }
     ],
     "prompt_number": 82
    },
    {
     "cell_type": "code",
     "collapsed": false,
     "input": [
      "subtypes = {\n",
      "    \"All\": clin.bcr_patient_barcode,\n",
      "    \"TNBC\": clin.bcr_patient_barcode[clin[\"Triple.Negative\"] == \"Non-TN\"],\n",
      "    \"ER+\": clin.bcr_patient_barcode[clin.breast_carcinoma_estrogen_receptor_status == \"Positive\"],\n",
      "    \"ER-\": clin.bcr_patient_barcode[clin.breast_carcinoma_estrogen_receptor_status == \"Negative\"],\n",
      "    \"LumA\": clin.bcr_patient_barcode[clin.PAM50 == \"LumA\"],\n",
      "    \"LumB\": clin.bcr_patient_barcode[clin.PAM50 == \"LumB\"],\n",
      "    \"Basal\": clin.bcr_patient_barcode[clin.PAM50 == \"Basal\"],\n",
      "    \"Her2\": clin.bcr_patient_barcode[clin.PAM50 == \"Her2\"],\n",
      "}"
     ],
     "language": "python",
     "metadata": {},
     "outputs": [],
     "prompt_number": 83
    },
    {
     "cell_type": "code",
     "collapsed": false,
     "input": [
      "for k in subtypes:\n",
      "    print k, len(subtypes[k])"
     ],
     "language": "python",
     "metadata": {},
     "outputs": [
      {
       "output_type": "stream",
       "stream": "stdout",
       "text": [
        "LumA 209\n",
        "Basal 81\n",
        "All 463\n",
        "Her2 53\n",
        "ER- 103\n",
        "TNBC 375\n",
        "LumB 112\n",
        "ER+ 354\n"
       ]
      }
     ],
     "prompt_number": 84
    },
    {
     "cell_type": "code",
     "collapsed": false,
     "input": [
      "%%time\n",
      "ratio_mutations = pd.DataFrame()\n",
      "for k in [\"All\", \"TNBC\", \"ER+\", \"ER-\", \"LumA\", \"LumB\", \"Basal\", \"Her2\"]:\n",
      "    ratio_mutations[k] = mafns.groupby(\"Hugo_Symbol\").Tumor_Sample_Barcode.apply(ratio_patients_with_mutation_in_gene, subtypes[k])"
     ],
     "language": "python",
     "metadata": {},
     "outputs": [
      {
       "output_type": "stream",
       "stream": "stdout",
       "text": [
        "CPU times: user 48.9 s, sys: 104 ms, total: 49 s\n",
        "Wall time: 49.4 s\n"
       ]
      }
     ],
     "prompt_number": 85
    },
    {
     "cell_type": "code",
     "collapsed": false,
     "input": [
      "ratio_mutations.head()"
     ],
     "language": "python",
     "metadata": {},
     "outputs": [
      {
       "html": [
        "<div style=\"max-height:1000px;max-width:1500px;overflow:auto;\">\n",
        "<table border=\"1\" class=\"dataframe\">\n",
        "  <thead>\n",
        "    <tr style=\"text-align: right;\">\n",
        "      <th></th>\n",
        "      <th>All</th>\n",
        "      <th>TNBC</th>\n",
        "      <th>ER+</th>\n",
        "      <th>ER-</th>\n",
        "      <th>LumA</th>\n",
        "      <th>LumB</th>\n",
        "      <th>Basal</th>\n",
        "      <th>Her2</th>\n",
        "    </tr>\n",
        "    <tr>\n",
        "      <th>Hugo_Symbol</th>\n",
        "      <th></th>\n",
        "      <th></th>\n",
        "      <th></th>\n",
        "      <th></th>\n",
        "      <th></th>\n",
        "      <th></th>\n",
        "      <th></th>\n",
        "      <th></th>\n",
        "    </tr>\n",
        "  </thead>\n",
        "  <tbody>\n",
        "    <tr>\n",
        "      <th>A1CF</th>\n",
        "      <td> 0.004320</td>\n",
        "      <td> 0.002667</td>\n",
        "      <td> 0.002825</td>\n",
        "      <td> 0.009709</td>\n",
        "      <td> 0.004785</td>\n",
        "      <td> 0.000000</td>\n",
        "      <td> 0.000000</td>\n",
        "      <td> 0.018868</td>\n",
        "    </tr>\n",
        "    <tr>\n",
        "      <th>A2BP1</th>\n",
        "      <td> 0.006479</td>\n",
        "      <td> 0.008000</td>\n",
        "      <td> 0.008475</td>\n",
        "      <td> 0.000000</td>\n",
        "      <td> 0.004785</td>\n",
        "      <td> 0.017857</td>\n",
        "      <td> 0.000000</td>\n",
        "      <td> 0.000000</td>\n",
        "    </tr>\n",
        "    <tr>\n",
        "      <th>A2M</th>\n",
        "      <td> 0.006479</td>\n",
        "      <td> 0.005333</td>\n",
        "      <td> 0.005650</td>\n",
        "      <td> 0.009709</td>\n",
        "      <td> 0.004785</td>\n",
        "      <td> 0.008929</td>\n",
        "      <td> 0.012346</td>\n",
        "      <td> 0.000000</td>\n",
        "    </tr>\n",
        "    <tr>\n",
        "      <th>A2ML1</th>\n",
        "      <td> 0.006479</td>\n",
        "      <td> 0.005333</td>\n",
        "      <td> 0.005650</td>\n",
        "      <td> 0.009709</td>\n",
        "      <td> 0.009569</td>\n",
        "      <td> 0.000000</td>\n",
        "      <td> 0.012346</td>\n",
        "      <td> 0.000000</td>\n",
        "    </tr>\n",
        "    <tr>\n",
        "      <th>A4GALT</th>\n",
        "      <td> 0.002160</td>\n",
        "      <td> 0.000000</td>\n",
        "      <td> 0.000000</td>\n",
        "      <td> 0.009709</td>\n",
        "      <td> 0.000000</td>\n",
        "      <td> 0.000000</td>\n",
        "      <td> 0.012346</td>\n",
        "      <td> 0.000000</td>\n",
        "    </tr>\n",
        "  </tbody>\n",
        "</table>\n",
        "</div>"
       ],
       "metadata": {},
       "output_type": "pyout",
       "prompt_number": 86,
       "text": [
        "                  All      TNBC       ER+       ER-      LumA      LumB  \\\n",
        "Hugo_Symbol                                                               \n",
        "A1CF         0.004320  0.002667  0.002825  0.009709  0.004785  0.000000   \n",
        "A2BP1        0.006479  0.008000  0.008475  0.000000  0.004785  0.017857   \n",
        "A2M          0.006479  0.005333  0.005650  0.009709  0.004785  0.008929   \n",
        "A2ML1        0.006479  0.005333  0.005650  0.009709  0.009569  0.000000   \n",
        "A4GALT       0.002160  0.000000  0.000000  0.009709  0.000000  0.000000   \n",
        "\n",
        "                Basal      Her2  \n",
        "Hugo_Symbol                      \n",
        "A1CF         0.000000  0.018868  \n",
        "A2BP1        0.000000  0.000000  \n",
        "A2M          0.012346  0.000000  \n",
        "A2ML1        0.012346  0.000000  \n",
        "A4GALT       0.012346  0.000000  "
       ]
      }
     ],
     "prompt_number": 86
    },
    {
     "cell_type": "code",
     "collapsed": false,
     "input": [
      "print len(ratio_mutations.index.unique()), len(ratio_mutations)"
     ],
     "language": "python",
     "metadata": {},
     "outputs": [
      {
       "output_type": "stream",
       "stream": "stdout",
       "text": [
        "10889 10889\n"
       ]
      }
     ],
     "prompt_number": 87
    },
    {
     "cell_type": "code",
     "collapsed": false,
     "input": [
      "ratio_mutations.to_csv(\"output/breast/ratio_patients_with_mutation.tsv\", sep=\"\\t\")"
     ],
     "language": "python",
     "metadata": {},
     "outputs": [],
     "prompt_number": 88
    }
   ],
   "metadata": {}
  }
 ]
}