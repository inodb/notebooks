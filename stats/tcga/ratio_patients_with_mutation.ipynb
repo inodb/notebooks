{
 "metadata": {
  "name": "",
  "signature": "sha256:12721799f18640a358d7b15ca7ee7310c95aebfd884e9cd36d8474dde0c0cfc4"
 },
 "nbformat": 3,
 "nbformat_minor": 0,
 "worksheets": [
  {
   "cells": [
    {
     "cell_type": "code",
     "collapsed": false,
     "input": [
      "import pandas as pd\n",
      "import numpy as np"
     ],
     "language": "python",
     "metadata": {},
     "outputs": [],
     "prompt_number": 1
    },
    {
     "cell_type": "code",
     "collapsed": false,
     "input": [
      "maf = pd.read_csv(\"data/UCEC_somatic.maf\", sep=\"\\t\", engine='python')"
     ],
     "language": "python",
     "metadata": {},
     "outputs": [],
     "prompt_number": 2
    },
    {
     "cell_type": "code",
     "collapsed": false,
     "input": [
      "maf.Variant_Classification.unique()"
     ],
     "language": "python",
     "metadata": {},
     "outputs": [
      {
       "metadata": {},
       "output_type": "pyout",
       "prompt_number": 3,
       "text": [
        "array(['Silent', 'Missense_Mutation', 'Nonsense_Mutation', 'RNA',\n",
        "       'In_Frame_Del', 'Splice_Site', 'Frame_Shift_Ins', 'Frame_Shift_Del',\n",
        "       'Nonstop_Mutation', 'In_Frame_Ins'], dtype=object)"
       ]
      }
     ],
     "prompt_number": 3
    },
    {
     "cell_type": "markdown",
     "metadata": {},
     "source": [
      "Only interested in Non-Silent Mutations so filter RNA and Silent."
     ]
    },
    {
     "cell_type": "code",
     "collapsed": false,
     "input": [
      "mafns = maf[~maf.Variant_Classification.isin([\"RNA\", \"Silent\"])]"
     ],
     "language": "python",
     "metadata": {},
     "outputs": [],
     "prompt_number": 4
    },
    {
     "cell_type": "code",
     "collapsed": false,
     "input": [
      "clin = pd.read_csv(\"data/datafile.S1.1.KeyClinicalData.tsv\", sep=\"\\t\")"
     ],
     "language": "python",
     "metadata": {},
     "outputs": [],
     "prompt_number": 5
    },
    {
     "cell_type": "code",
     "collapsed": false,
     "input": [
      "len(clin)"
     ],
     "language": "python",
     "metadata": {},
     "outputs": [
      {
       "metadata": {},
       "output_type": "pyout",
       "prompt_number": 6,
       "text": [
        "373"
       ]
      }
     ],
     "prompt_number": 6
    },
    {
     "cell_type": "code",
     "collapsed": false,
     "input": [
      "clin.msi_status_7_marker_call.unique()"
     ],
     "language": "python",
     "metadata": {},
     "outputs": [
      {
       "metadata": {},
       "output_type": "pyout",
       "prompt_number": 7,
       "text": [
        "array(['MSI-H', 'MSI-L', 'MSS', 'Indeterminant'], dtype=object)"
       ]
      }
     ],
     "prompt_number": 7
    },
    {
     "cell_type": "code",
     "collapsed": false,
     "input": [
      "clin.IntegrativeCluster.unique()"
     ],
     "language": "python",
     "metadata": {},
     "outputs": [
      {
       "metadata": {},
       "output_type": "pyout",
       "prompt_number": 8,
       "text": [
        "array(['Notassigned', 'CN high', 'MSI', 'CN low', 'POLE'], dtype=object)"
       ]
      }
     ],
     "prompt_number": 8
    },
    {
     "cell_type": "code",
     "collapsed": false,
     "input": [
      "subtypes = {\n",
      "    \"Endometrioid\": clin.bcr_patient_barcode[clin.histology == \"Endometrioid\"],\n",
      "    \"Serous\": clin.bcr_patient_barcode[clin.histology == \"Serous\"],\n",
      "    \"Endometrioid_MSI-H\": clin.bcr_patient_barcode[(clin.histology == \"Endometrioid\") & (clin.msi_status_7_marker_call == \"MSI-H\")],\n",
      "    \"Endometrioid_MSI-L\": clin.bcr_patient_barcode[(clin.histology == \"Endometrioid\") & (clin.msi_status_7_marker_call == \"MSI-L\")],\n",
      "    \"Endometrioid_MSS\": clin.bcr_patient_barcode[(clin.histology == \"Endometrioid\") & (clin.msi_status_7_marker_call == \"MSS\")],\n",
      "    \"POLE\": clin.bcr_patient_barcode[clin.IntegrativeCluster == \"CN high\"],\n",
      "    \"MSI\": clin.bcr_patient_barcode[clin.IntegrativeCluster == \"MSI\"],\n",
      "    \"CN low\": clin.bcr_patient_barcode[clin.IntegrativeCluster == \"CN low\"],\n",
      "    \"CN high\": clin.bcr_patient_barcode[clin.IntegrativeCluster == \"CN high\"],\n",
      "}"
     ],
     "language": "python",
     "metadata": {},
     "outputs": [],
     "prompt_number": 18
    },
    {
     "cell_type": "code",
     "collapsed": false,
     "input": [
      "for k in subtypes:\n",
      "    print k, len(subtypes[k])"
     ],
     "language": "python",
     "metadata": {},
     "outputs": [
      {
       "output_type": "stream",
       "stream": "stdout",
       "text": [
        "CN high 60\n",
        "POLE 60\n",
        "Serous 53\n",
        "Endometrioid 307\n",
        "MSI 65\n",
        "Endometrioid_MSI-H 123\n",
        "Endometrioid_MSS 171\n",
        "Endometrioid_MSI-L 12\n",
        "CN low 90\n"
       ]
      }
     ],
     "prompt_number": 22
    },
    {
     "cell_type": "code",
     "collapsed": false,
     "input": [
      "def ratio_patients_with_mutation_in_gene(x, subtype_patients):\n",
      "    return np.in1d(x.apply(lambda y: y[:12]).unique(), subtype_patients).sum() / float(len(subtype_patients))"
     ],
     "language": "python",
     "metadata": {},
     "outputs": [],
     "prompt_number": 10
    },
    {
     "cell_type": "code",
     "collapsed": false,
     "input": [
      "ratio_patients_with_mutation_in_gene(mafns[mafns.Hugo_Symbol == \"SAMD11\"].Tumor_Sample_Barcode, subtypes[\"Endometrioid\"])"
     ],
     "language": "python",
     "metadata": {},
     "outputs": [
      {
       "metadata": {},
       "output_type": "pyout",
       "prompt_number": 16,
       "text": [
        "0.0097719869706840382"
       ]
      }
     ],
     "prompt_number": 16
    },
    {
     "cell_type": "code",
     "collapsed": false,
     "input": [
      "mafns.groupby(\"Hugo_Symbol\").Tumor_Sample_Barcode.apply(ratio_patients_with_mutation_in_gene, subtypes[\"Endometrioid\"]).head()"
     ],
     "language": "python",
     "metadata": {},
     "outputs": [
      {
       "metadata": {},
       "output_type": "pyout",
       "prompt_number": 14,
       "text": [
        "Hugo_Symbol\n",
        "A1BG           0.009772\n",
        "A1CF           0.016287\n",
        "A2M            0.039088\n",
        "A2ML1          0.048860\n",
        "A4GALT         0.006515\n",
        "Name: Tumor_Sample_Barcode, dtype: float64"
       ]
      }
     ],
     "prompt_number": 14
    },
    {
     "cell_type": "code",
     "collapsed": false,
     "input": [
      "%%time\n",
      "ratio_mutations = pd.DataFrame(index=mafns.Hugo_Symbol)\n",
      "for k in subtypes:\n",
      "    ratio_mutations[k] = mafns.groupby(\"Hugo_Symbol\").Tumor_Sample_Barcode.apply(ratio_patients_with_mutation_in_gene, subtypes[k])"
     ],
     "language": "python",
     "metadata": {},
     "outputs": [
      {
       "output_type": "stream",
       "stream": "stdout",
       "text": [
        "CPU times: user 1min 1s, sys: 117 ms, total: 1min 1s\n",
        "Wall time: 1min 1s\n"
       ]
      }
     ],
     "prompt_number": 19
    },
    {
     "cell_type": "code",
     "collapsed": false,
     "input": [
      "ratio_mutations.head()"
     ],
     "language": "python",
     "metadata": {},
     "outputs": [
      {
       "html": [
        "<div style=\"max-height:1000px;max-width:1500px;overflow:auto;\">\n",
        "<table border=\"1\" class=\"dataframe\">\n",
        "  <thead>\n",
        "    <tr style=\"text-align: right;\">\n",
        "      <th></th>\n",
        "      <th>CN high</th>\n",
        "      <th>POLE</th>\n",
        "      <th>Serous</th>\n",
        "      <th>Endometrioid</th>\n",
        "      <th>MSI</th>\n",
        "      <th>Endometrioid_MSI-H</th>\n",
        "      <th>Endometrioid_MSS</th>\n",
        "      <th>Endometrioid_MSI-L</th>\n",
        "      <th>CN low</th>\n",
        "    </tr>\n",
        "    <tr>\n",
        "      <th>Hugo_Symbol</th>\n",
        "      <th></th>\n",
        "      <th></th>\n",
        "      <th></th>\n",
        "      <th></th>\n",
        "      <th></th>\n",
        "      <th></th>\n",
        "      <th></th>\n",
        "      <th></th>\n",
        "      <th></th>\n",
        "    </tr>\n",
        "  </thead>\n",
        "  <tbody>\n",
        "    <tr>\n",
        "      <th>SAMD11</th>\n",
        "      <td> 0</td>\n",
        "      <td> 0</td>\n",
        "      <td> 0</td>\n",
        "      <td> 0.009772</td>\n",
        "      <td> 0.000000</td>\n",
        "      <td> 0.00813</td>\n",
        "      <td> 0.011696</td>\n",
        "      <td> 0.00</td>\n",
        "      <td> 0.011111</td>\n",
        "    </tr>\n",
        "    <tr>\n",
        "      <th>SAMD11</th>\n",
        "      <td> 0</td>\n",
        "      <td> 0</td>\n",
        "      <td> 0</td>\n",
        "      <td> 0.009772</td>\n",
        "      <td> 0.000000</td>\n",
        "      <td> 0.00813</td>\n",
        "      <td> 0.011696</td>\n",
        "      <td> 0.00</td>\n",
        "      <td> 0.011111</td>\n",
        "    </tr>\n",
        "    <tr>\n",
        "      <th>SAMD11</th>\n",
        "      <td> 0</td>\n",
        "      <td> 0</td>\n",
        "      <td> 0</td>\n",
        "      <td> 0.009772</td>\n",
        "      <td> 0.000000</td>\n",
        "      <td> 0.00813</td>\n",
        "      <td> 0.011696</td>\n",
        "      <td> 0.00</td>\n",
        "      <td> 0.011111</td>\n",
        "    </tr>\n",
        "    <tr>\n",
        "      <th>NOC2L</th>\n",
        "      <td> 0</td>\n",
        "      <td> 0</td>\n",
        "      <td> 0</td>\n",
        "      <td> 0.022801</td>\n",
        "      <td> 0.015385</td>\n",
        "      <td> 0.01626</td>\n",
        "      <td> 0.011696</td>\n",
        "      <td> 0.25</td>\n",
        "      <td> 0.011111</td>\n",
        "    </tr>\n",
        "    <tr>\n",
        "      <th>NOC2L</th>\n",
        "      <td> 0</td>\n",
        "      <td> 0</td>\n",
        "      <td> 0</td>\n",
        "      <td> 0.022801</td>\n",
        "      <td> 0.015385</td>\n",
        "      <td> 0.01626</td>\n",
        "      <td> 0.011696</td>\n",
        "      <td> 0.25</td>\n",
        "      <td> 0.011111</td>\n",
        "    </tr>\n",
        "  </tbody>\n",
        "</table>\n",
        "</div>"
       ],
       "metadata": {},
       "output_type": "pyout",
       "prompt_number": 24,
       "text": [
        "             CN high  POLE  Serous  Endometrioid       MSI  \\\n",
        "Hugo_Symbol                                                  \n",
        "SAMD11             0     0       0      0.009772  0.000000   \n",
        "SAMD11             0     0       0      0.009772  0.000000   \n",
        "SAMD11             0     0       0      0.009772  0.000000   \n",
        "NOC2L              0     0       0      0.022801  0.015385   \n",
        "NOC2L              0     0       0      0.022801  0.015385   \n",
        "\n",
        "             Endometrioid_MSI-H  Endometrioid_MSS  Endometrioid_MSI-L  \\\n",
        "Hugo_Symbol                                                             \n",
        "SAMD11                  0.00813          0.011696                0.00   \n",
        "SAMD11                  0.00813          0.011696                0.00   \n",
        "SAMD11                  0.00813          0.011696                0.00   \n",
        "NOC2L                   0.01626          0.011696                0.25   \n",
        "NOC2L                   0.01626          0.011696                0.25   \n",
        "\n",
        "               CN low  \n",
        "Hugo_Symbol            \n",
        "SAMD11       0.011111  \n",
        "SAMD11       0.011111  \n",
        "SAMD11       0.011111  \n",
        "NOC2L        0.011111  \n",
        "NOC2L        0.011111  "
       ]
      }
     ],
     "prompt_number": 24
    },
    {
     "cell_type": "code",
     "collapsed": false,
     "input": [
      "ratio_mutations.to_csv(\"output/endometrial/ratio_patients_with_mutation.tsv\", sep=\"\\t\")"
     ],
     "language": "python",
     "metadata": {},
     "outputs": [],
     "prompt_number": 25
    }
   ],
   "metadata": {}
  }
 ]
}