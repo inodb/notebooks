{
 "metadata": {
  "name": "",
  "signature": "sha256:a9977cb06cef10a4a5bc05bc62c2cd1074a3b720958cbd6c3c7e5017da450d0b"
 },
 "nbformat": 3,
 "nbformat_minor": 0,
 "worksheets": [
  {
   "cells": [
    {
     "cell_type": "markdown",
     "metadata": {},
     "source": [
      "Got BRCA1 and BRCA2 data from cBioPortal.\n",
      "\n",
      "Breast Invasive Carcinoma (TCGA, Nature 2012)\n",
      "All Tumors (825 samples) / 2 Genes\n",
      "\n",
      "p-value of Fisher exact test should be 0.123 and Log odds ratio 1.002\n",
      "\n",
      "Downloaded genetic alteration across all cases."
     ]
    },
    {
     "cell_type": "code",
     "collapsed": false,
     "input": [
      "import pandas as pd\n",
      "import numpy as np\n",
      "import math\n",
      "import scipy.stats"
     ],
     "language": "python",
     "metadata": {},
     "outputs": [],
     "prompt_number": 91
    },
    {
     "cell_type": "code",
     "collapsed": false,
     "input": [
      "def strip(text):\n",
      "    try:\n",
      "        return text.strip()\n",
      "    except AttributeError:\n",
      "        return text\n",
      "\n",
      "alt = pd.read_csv(\"gen_alterations.csv\", sep=\",\", \n",
      "                    skipinitialspace=True)"
     ],
     "language": "python",
     "metadata": {},
     "outputs": [],
     "prompt_number": 8
    },
    {
     "cell_type": "code",
     "collapsed": false,
     "input": [
      "alt.head()"
     ],
     "language": "python",
     "metadata": {},
     "outputs": [
      {
       "html": [
        "<div style=\"max-height:1000px;max-width:1500px;overflow:auto;\">\n",
        "<table border=\"1\" class=\"dataframe\">\n",
        "  <thead>\n",
        "    <tr style=\"text-align: right;\">\n",
        "      <th></th>\n",
        "      <th>Case ID</th>\n",
        "      <th>BRCA1</th>\n",
        "      <th>BRCA2</th>\n",
        "    </tr>\n",
        "  </thead>\n",
        "  <tbody>\n",
        "    <tr>\n",
        "      <th>0</th>\n",
        "      <td> TCGA-A2-A0T2-01</td>\n",
        "      <td> NaN</td>\n",
        "      <td> NaN</td>\n",
        "    </tr>\n",
        "    <tr>\n",
        "      <th>1</th>\n",
        "      <td> TCGA-A2-A04P-01</td>\n",
        "      <td> NaN</td>\n",
        "      <td> NaN</td>\n",
        "    </tr>\n",
        "    <tr>\n",
        "      <th>2</th>\n",
        "      <td> TCGA-A1-A0SK-01</td>\n",
        "      <td> NaN</td>\n",
        "      <td> NaN</td>\n",
        "    </tr>\n",
        "    <tr>\n",
        "      <th>3</th>\n",
        "      <td> TCGA-A2-A0CM-01</td>\n",
        "      <td> NaN</td>\n",
        "      <td> NaN</td>\n",
        "    </tr>\n",
        "    <tr>\n",
        "      <th>4</th>\n",
        "      <td> TCGA-AR-A1AR-01</td>\n",
        "      <td> NaN</td>\n",
        "      <td> NaN</td>\n",
        "    </tr>\n",
        "  </tbody>\n",
        "</table>\n",
        "</div>"
       ],
       "metadata": {},
       "output_type": "pyout",
       "prompt_number": 9,
       "text": [
        "           Case ID BRCA1 BRCA2\n",
        "0  TCGA-A2-A0T2-01   NaN   NaN\n",
        "1  TCGA-A2-A04P-01   NaN   NaN\n",
        "2  TCGA-A1-A0SK-01   NaN   NaN\n",
        "3  TCGA-A2-A0CM-01   NaN   NaN\n",
        "4  TCGA-AR-A1AR-01   NaN   NaN"
       ]
      }
     ],
     "prompt_number": 9
    },
    {
     "cell_type": "heading",
     "level": 2,
     "metadata": {},
     "source": [
      "Probabilities"
     ]
    },
    {
     "cell_type": "markdown",
     "metadata": {},
     "source": [
      "- PA is probability of BRCA1\n",
      "- PB is probability of BRCA2"
     ]
    },
    {
     "cell_type": "code",
     "collapsed": false,
     "input": [
      "PA = len(alt[~pd.isnull(alt.BRCA1)]) / float(len(alt))\n",
      "PB = len(alt[~pd.isnull(alt.BRCA2)]) / float(len(alt))\n",
      "PBgA = len(alt[~pd.isnull(alt.BRCA1) & ~pd.isnull(alt.BRCA2)]) / float(len(alt[~pd.isnull(alt.BRCA1)]))\n",
      "PAgB = len(alt[~pd.isnull(alt.BRCA1) & ~pd.isnull(alt.BRCA2)]) / float(len(alt[~pd.isnull(alt.BRCA2)]))\n",
      "print \"Probabilities\"\n",
      "print \"PA: %f\\nPB: %f\\nPBgA: %f\\nPAgB: %f\" % (PA, PB, PBgA, PAgB)"
     ],
     "language": "python",
     "metadata": {},
     "outputs": [
      {
       "output_type": "stream",
       "stream": "stdout",
       "text": [
        "Probabilities\n",
        "PA: 0.032727\n",
        "PB: 0.046061\n",
        "PBgA: 0.111111\n",
        "PAgB: 0.078947\n"
       ]
      }
     ],
     "prompt_number": 76
    },
    {
     "cell_type": "code",
     "collapsed": false,
     "input": [
      "print \"Confirm Bayes\"\n",
      "print PA * PBgA\n",
      "print PB * PAgB"
     ],
     "language": "python",
     "metadata": {},
     "outputs": [
      {
       "output_type": "stream",
       "stream": "stdout",
       "text": [
        "Confirm Bayes\n",
        "0.00363636363636\n",
        "0.00363636363636\n"
       ]
      }
     ],
     "prompt_number": 77
    },
    {
     "cell_type": "heading",
     "level": 2,
     "metadata": {},
     "source": [
      "Paper formula"
     ]
    },
    {
     "cell_type": "markdown",
     "metadata": {},
     "source": [
      "From Gao 2013\n",
      "$$ OR = (A * D) / (B * C) $$\n",
      "\n",
      "Where A = number of cases altered in both genes; B = number of cases altered in G1 but not G2; C = number of cases altered in G2 but not G1; and D = number of cases altered in neither genes.\n",
      "\n",
      "NOTE: Use of A etc different from above"
     ]
    },
    {
     "cell_type": "code",
     "collapsed": false,
     "input": [
      "A = len(alt[~pd.isnull(alt.BRCA1) & ~pd.isnull(alt.BRCA2)])\n",
      "B = len(alt[~pd.isnull(alt.BRCA1) &  pd.isnull(alt.BRCA2)])\n",
      "C = len(alt[ pd.isnull(alt.BRCA1) & ~pd.isnull(alt.BRCA2)])\n",
      "D = len(alt[ pd.isnull(alt.BRCA1) &  pd.isnull(alt.BRCA2)])\n",
      "print \"A, B, C, D\"\n",
      "print A, B, C, D"
     ],
     "language": "python",
     "metadata": {},
     "outputs": [
      {
       "output_type": "stream",
       "stream": "stdout",
       "text": [
        "A, B, C, D\n",
        "3 24 35 763\n"
       ]
      }
     ],
     "prompt_number": 82
    },
    {
     "cell_type": "code",
     "collapsed": false,
     "input": [
      "print \"odds\", float(A * D)/(B*C)\n",
      "print \"log odds\", math.log(float(A * D)/(B*C))"
     ],
     "language": "python",
     "metadata": {},
     "outputs": [
      {
       "output_type": "stream",
       "stream": "stdout",
       "text": [
        "odds 2.725\n",
        "log odds 1.00246842812\n"
       ]
      }
     ],
     "prompt_number": 87
    },
    {
     "cell_type": "markdown",
     "metadata": {},
     "source": [
      "Does correspond with cBioPortal Log odds ratio"
     ]
    },
    {
     "cell_type": "heading",
     "level": 2,
     "metadata": {},
     "source": [
      "Fisher exact test"
     ]
    },
    {
     "cell_type": "code",
     "collapsed": false,
     "input": [
      "scipy.stats.fisher_exact([[A,B],[C,D]])"
     ],
     "language": "python",
     "metadata": {},
     "outputs": [
      {
       "metadata": {},
       "output_type": "pyout",
       "prompt_number": 92,
       "text": [
        "(2.7250000000000001, 0.12301941901644878)"
       ]
      }
     ],
     "prompt_number": 92
    }
   ],
   "metadata": {}
  }
 ]
}